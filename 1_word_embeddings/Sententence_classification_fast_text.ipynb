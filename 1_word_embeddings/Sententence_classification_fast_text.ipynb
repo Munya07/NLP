{
  "nbformat": 4,
  "nbformat_minor": 0,
  "metadata": {
    "colab": {
      "name": "Copy of Untitled1.ipynb",
      "version": "0.3.2",
      "provenance": [],
      "collapsed_sections": [],
      "include_colab_link": true
    },
    "kernelspec": {
      "name": "python3",
      "display_name": "Python 3"
    }
  },
  "cells": [
    {
      "cell_type": "markdown",
      "metadata": {
        "id": "view-in-github",
        "colab_type": "text"
      },
      "source": [
        "<a href=\"https://colab.research.google.com/github/Munya07/NLP/blob/master/1_word_embeddings/Sententence_classification_fast_text.ipynb\" target=\"_parent\"><img src=\"https://colab.research.google.com/assets/colab-badge.svg\" alt=\"Open In Colab\"/></a>"
      ]
    },
    {
      "cell_type": "code",
      "metadata": {
        "id": "i7NfKlxvi3fa",
        "colab_type": "code",
        "outputId": "9125edfb-a345-4426-f01c-060fd37156eb",
        "colab": {
          "base_uri": "https://localhost:8080/",
          "height": 448
        }
      },
      "source": [
        "!pip install numpy==1.16.1\n",
        "import re\n",
        "import itertools\n",
        "from collections import Counter\n",
        "import numpy as np\n",
        "from sklearn.model_selection import train_test_split\n",
        "!pip install gensim\n",
        "from gensim.models import FastText\n",
        "# Original fasttext embeddings from https://fasttext.cc/\n",
        "from google.colab import drive\n",
        "drive.mount('/content/drive')\n",
        "ft = FastText.load_fasttext_format(\"drive/My Drive/Colab Notebooks/cc.ru.300.bin\")"
      ],
      "execution_count": 0,
      "outputs": [
        {
          "output_type": "stream",
          "text": [
            "Requirement already satisfied: numpy==1.16.1 in /usr/local/lib/python3.6/dist-packages (1.16.1)\n",
            "Requirement already satisfied: gensim in /usr/local/lib/python3.6/dist-packages (3.6.0)\n",
            "Requirement already satisfied: numpy>=1.11.3 in /usr/local/lib/python3.6/dist-packages (from gensim) (1.16.1)\n",
            "Requirement already satisfied: scipy>=0.18.1 in /usr/local/lib/python3.6/dist-packages (from gensim) (1.2.1)\n",
            "Requirement already satisfied: six>=1.5.0 in /usr/local/lib/python3.6/dist-packages (from gensim) (1.12.0)\n",
            "Requirement already satisfied: smart-open>=1.2.1 in /usr/local/lib/python3.6/dist-packages (from gensim) (1.8.3)\n",
            "Requirement already satisfied: requests in /usr/local/lib/python3.6/dist-packages (from smart-open>=1.2.1->gensim) (2.21.0)\n",
            "Requirement already satisfied: boto3 in /usr/local/lib/python3.6/dist-packages (from smart-open>=1.2.1->gensim) (1.9.145)\n",
            "Requirement already satisfied: boto>=2.32 in /usr/local/lib/python3.6/dist-packages (from smart-open>=1.2.1->gensim) (2.49.0)\n",
            "Requirement already satisfied: chardet<3.1.0,>=3.0.2 in /usr/local/lib/python3.6/dist-packages (from requests->smart-open>=1.2.1->gensim) (3.0.4)\n",
            "Requirement already satisfied: certifi>=2017.4.17 in /usr/local/lib/python3.6/dist-packages (from requests->smart-open>=1.2.1->gensim) (2019.3.9)\n",
            "Requirement already satisfied: idna<2.9,>=2.5 in /usr/local/lib/python3.6/dist-packages (from requests->smart-open>=1.2.1->gensim) (2.8)\n",
            "Requirement already satisfied: urllib3<1.25,>=1.21.1 in /usr/local/lib/python3.6/dist-packages (from requests->smart-open>=1.2.1->gensim) (1.24.3)\n",
            "Requirement already satisfied: s3transfer<0.3.0,>=0.2.0 in /usr/local/lib/python3.6/dist-packages (from boto3->smart-open>=1.2.1->gensim) (0.2.0)\n",
            "Requirement already satisfied: jmespath<1.0.0,>=0.7.1 in /usr/local/lib/python3.6/dist-packages (from boto3->smart-open>=1.2.1->gensim) (0.9.4)\n",
            "Requirement already satisfied: botocore<1.13.0,>=1.12.145 in /usr/local/lib/python3.6/dist-packages (from boto3->smart-open>=1.2.1->gensim) (1.12.145)\n",
            "Requirement already satisfied: python-dateutil<3.0.0,>=2.1; python_version >= \"2.7\" in /usr/local/lib/python3.6/dist-packages (from botocore<1.13.0,>=1.12.145->boto3->smart-open>=1.2.1->gensim) (2.5.3)\n",
            "Requirement already satisfied: docutils>=0.10 in /usr/local/lib/python3.6/dist-packages (from botocore<1.13.0,>=1.12.145->boto3->smart-open>=1.2.1->gensim) (0.14)\n",
            "Go to this URL in a browser: https://accounts.google.com/o/oauth2/auth?client_id=947318989803-6bn6qk8qdgf4n4g3pfee6491hc0brc4i.apps.googleusercontent.com&redirect_uri=urn%3Aietf%3Awg%3Aoauth%3A2.0%3Aoob&scope=email%20https%3A%2F%2Fwww.googleapis.com%2Fauth%2Fdocs.test%20https%3A%2F%2Fwww.googleapis.com%2Fauth%2Fdrive%20https%3A%2F%2Fwww.googleapis.com%2Fauth%2Fdrive.photos.readonly%20https%3A%2F%2Fwww.googleapis.com%2Fauth%2Fpeopleapi.readonly&response_type=code\n",
            "\n",
            "Enter your authorization code:\n",
            "··········\n",
            "Mounted at /content/drive\n"
          ],
          "name": "stdout"
        }
      ]
    },
    {
      "cell_type": "code",
      "metadata": {
        "id": "ipRenQS8i5ql",
        "colab_type": "code",
        "colab": {}
      },
      "source": [
        "import pandas as pd\n",
        "data= pd.read_excel(\"drive/My Drive/Colab Notebooks/datasetfinal.xlsx\")"
      ],
      "execution_count": 0,
      "outputs": []
    },
    {
      "cell_type": "code",
      "metadata": {
        "id": "c7Cz_5tTnP1I",
        "colab_type": "code",
        "colab": {}
      },
      "source": [
        "import pandas as pd\n",
        "#WS = pd.read_excel('ur.xlsx')\n",
        "#WS_np = np.array(WS)\n",
        "text = data['text']\n",
        "labels=data['sentiment']"
      ],
      "execution_count": 0,
      "outputs": []
    },
    {
      "cell_type": "code",
      "metadata": {
        "id": "kTyeQg3AnWYZ",
        "colab_type": "code",
        "colab": {}
      },
      "source": [
        "text2 = data['text'].replace(r'http\\S+', '', regex=True).replace(r'www\\S+', '', regex=True).replace(r'@\\S+', '', regex=True).replace(r'#\\S+', '', regex=True)"
      ],
      "execution_count": 0,
      "outputs": []
    },
    {
      "cell_type": "code",
      "metadata": {
        "id": "b3VSd2nRnZL4",
        "colab_type": "code",
        "outputId": "b060cc73-7940-4a9e-a8af-35f49ac83d47",
        "colab": {
          "base_uri": "https://localhost:8080/",
          "height": 35
        }
      },
      "source": [
        "import re \n",
        "count=[]\n",
        "for i in range(len(text2)):\n",
        "    for word in text2[i]:\n",
        "        res = len(re.findall(r'\\w+', text2[i])) \n",
        "    count.append(res)\n",
        "max(count)"
      ],
      "execution_count": 0,
      "outputs": [
        {
          "output_type": "execute_result",
          "data": {
            "text/plain": [
              "27"
            ]
          },
          "metadata": {
            "tags": []
          },
          "execution_count": 6
        }
      ]
    },
    {
      "cell_type": "code",
      "metadata": {
        "id": "YzKgQbb2TT7P",
        "colab_type": "code",
        "outputId": "0112f3aa-d930-487d-dda4-60d6bd9bf0de",
        "colab": {
          "base_uri": "https://localhost:8080/",
          "height": 35
        }
      },
      "source": [
        "text2.shape"
      ],
      "execution_count": 0,
      "outputs": [
        {
          "output_type": "execute_result",
          "data": {
            "text/plain": [
              "(3567,)"
            ]
          },
          "metadata": {
            "tags": []
          },
          "execution_count": 7
        }
      ]
    },
    {
      "cell_type": "code",
      "metadata": {
        "id": "Y9lva6LIncvW",
        "colab_type": "code",
        "outputId": "c510b6f3-0a60-4334-d870-decf665b140f",
        "colab": {
          "base_uri": "https://localhost:8080/",
          "height": 35
        }
      },
      "source": [
        "def clean_str(string):\n",
        "    \"\"\"\n",
        "    Tokenization/string cleaning.\n",
        "    \"\"\"\n",
        "    \n",
        "    remove_special_chars = re.compile(\"[^A-Za-z0-9 ]+\")\n",
        "    #This removes any line breaks and replaces them with spaces\n",
        "    string = string.lower().replace(\"<br />\", \" \")\n",
        "    string=re.sub(remove_special_chars, \"\", string.lower())\n",
        "    string = re.sub(r\"[^A-Za-z0-9(),!?\\'\\`]\", \" \", string)\n",
        "   \n",
        "    string = re.sub(\"^\\s+|\\s+$\", \"\", string, flags=re.UNICODE)\n",
        "    string = \" \".join(re.split(\"\\s+\", string, flags=re.UNICODE))\n",
        "    \n",
        "    \n",
        "    return string\n",
        "  \n",
        "maxlen=27\n",
        "\"\"\"\n",
        "Pads all sentences to the same length. The length is defined by maxlen.\n",
        "Returns padded sentences.\n",
        "\"\"\"\n",
        "padded_sentences = []\n",
        "for i in range(len(text2)):\n",
        "  if(len(re.findall(r'\\w+', text2[i])) <= maxlen):\n",
        "      num=maxlen-len(re.findall(r'\\w+', text2[i]))\n",
        "      if num==0:\n",
        "        print(i)\n",
        "      f=text2[i]+(\" let \" * num)\n",
        "      padded_sentences.append(f)"
      ],
      "execution_count": 0,
      "outputs": [
        {
          "output_type": "stream",
          "text": [
            "842\n"
          ],
          "name": "stdout"
        }
      ]
    },
    {
      "cell_type": "code",
      "metadata": {
        "id": "3jj8_24J7XOY",
        "colab_type": "code",
        "outputId": "be1db915-da3b-4016-d7e2-3c4f88ec1708",
        "colab": {
          "base_uri": "https://localhost:8080/",
          "height": 35
        }
      },
      "source": [
        "padded_sentences[842]"
      ],
      "execution_count": 0,
      "outputs": [
        {
          "output_type": "execute_result",
          "data": {
            "text/plain": [
              "'Чистая прибыль Сбербанка по РСБУ в январе-июле увеличилась на 3,7% в годовом выражении до 220,3 млрд руб. против 212,4 млрд руб. в январе…'"
            ]
          },
          "metadata": {
            "tags": []
          },
          "execution_count": 10
        }
      ]
    },
    {
      "cell_type": "code",
      "metadata": {
        "id": "ggS5fbxEXt-n",
        "colab_type": "code",
        "outputId": "d57f24df-6ebd-4647-e490-ac9c1e10b8ea",
        "colab": {
          "base_uri": "https://localhost:8080/",
          "height": 35
        }
      },
      "source": [
        "text2[842]"
      ],
      "execution_count": 0,
      "outputs": [
        {
          "output_type": "execute_result",
          "data": {
            "text/plain": [
              "'Чистая прибыль Сбербанка по РСБУ в январе-июле увеличилась на 3,7% в годовом выражении до 220,3 млрд руб. против 212,4 млрд руб. в январе…'"
            ]
          },
          "metadata": {
            "tags": []
          },
          "execution_count": 11
        }
      ]
    },
    {
      "cell_type": "code",
      "metadata": {
        "id": "83qmaOCg4iCV",
        "colab_type": "code",
        "outputId": "bf7059b1-d8ab-4c4f-e95a-0841e98e62f8",
        "colab": {
          "base_uri": "https://localhost:8080/",
          "height": 35
        }
      },
      "source": [
        "len(padded_sentences)"
      ],
      "execution_count": 0,
      "outputs": [
        {
          "output_type": "execute_result",
          "data": {
            "text/plain": [
              "3567"
            ]
          },
          "metadata": {
            "tags": []
          },
          "execution_count": 13
        }
      ]
    },
    {
      "cell_type": "code",
      "metadata": {
        "id": "qkmbEcTL3tFb",
        "colab_type": "code",
        "outputId": "52f1f24b-1647-4348-95be-fa388f401653",
        "colab": {
          "base_uri": "https://localhost:8080/",
          "height": 55
        }
      },
      "source": [
        "padded_sentences[20]"
      ],
      "execution_count": 0,
      "outputs": [
        {
          "output_type": "execute_result",
          "data": {
            "text/plain": [
              "' Лайфхак дня: напишите на стене  и через пол часа там выстроиться очередь из 30 пенсионеров let  let  let  let  let  let  let  let  let  let  let  let '"
            ]
          },
          "metadata": {
            "tags": []
          },
          "execution_count": 15
        }
      ]
    },
    {
      "cell_type": "code",
      "metadata": {
        "id": "QwZOHHd4nmMB",
        "colab_type": "code",
        "outputId": "bdad04c5-c125-4c03-aded-e1a7448088fa",
        "colab": {
          "base_uri": "https://localhost:8080/",
          "height": 287
        }
      },
      "source": [
        "find_similar_to = 'car'.lower()\n",
        "ft.similar_by_word(find_similar_to)"
      ],
      "execution_count": 0,
      "outputs": [
        {
          "output_type": "stream",
          "text": [
            "/usr/local/lib/python3.6/dist-packages/ipykernel_launcher.py:2: DeprecationWarning: Call to deprecated `similar_by_word` (Method will be removed in 4.0.0, use self.wv.similar_by_word() instead).\n",
            "  \n",
            "/usr/local/lib/python3.6/dist-packages/gensim/matutils.py:737: FutureWarning: Conversion of the second argument of issubdtype from `int` to `np.signedinteger` is deprecated. In future, it will be treated as `np.int64 == np.dtype(int).type`.\n",
            "  if np.issubdtype(vec.dtype, np.int):\n"
          ],
          "name": "stderr"
        },
        {
          "output_type": "execute_result",
          "data": {
            "text/plain": [
              "[('cars', 0.7301392555236816),\n",
              " ('Car', 0.6899529099464417),\n",
              " ('vehicle', 0.643256425857544),\n",
              " ('truck', 0.6273175477981567),\n",
              " ('automobile', 0.6211560368537903),\n",
              " ('driving', 0.6044845581054688),\n",
              " ('vehicles', 0.6017204523086548),\n",
              " ('rental', 0.6012247800827026),\n",
              " ('saloon', 0.5991286039352417),\n",
              " ('taxi', 0.5971087217330933)]"
            ]
          },
          "metadata": {
            "tags": []
          },
          "execution_count": 84
        }
      ]
    },
    {
      "cell_type": "code",
      "metadata": {
        "id": "6nxDT9BroATV",
        "colab_type": "code",
        "outputId": "0f2d9909-5197-4b41-c131-41db27c4ff84",
        "colab": {
          "base_uri": "https://localhost:8080/",
          "height": 35
        }
      },
      "source": [
        "len(padded_sentences)"
      ],
      "execution_count": 0,
      "outputs": [
        {
          "output_type": "execute_result",
          "data": {
            "text/plain": [
              "3567"
            ]
          },
          "metadata": {
            "tags": []
          },
          "execution_count": 17
        }
      ]
    },
    {
      "cell_type": "code",
      "metadata": {
        "id": "GT6hU-xgoZFV",
        "colab_type": "code",
        "outputId": "4bf4667e-0746-4cb3-8ccf-7514cb315a82",
        "colab": {
          "base_uri": "https://localhost:8080/",
          "height": 124
        }
      },
      "source": [
        "words = []\n",
        "embedding = []\n",
        "\n",
        "for i in range(len(padded_sentences)):\n",
        "  words = []\n",
        "  f = 0\n",
        "  j=re.findall(r'\\w+', padded_sentences[i])\n",
        "  for word in re.findall(r'\\w+', padded_sentences[i]):\n",
        "    #print(word)\n",
        "    # Break the loop if limit exceeds \n",
        "    #if i == limit: break\n",
        "    try :\n",
        "      vect = ft.wv[word]\n",
        "    except KeyError:\n",
        "      print(word)\n",
        "      vect = ft.wv[\"none\"]\n",
        "    # 20 other lines\n",
        "      \n",
        "    # Getting token \n",
        "    words.append(vect)\n",
        "    f=f+1\n",
        "    # Appending the vectors \n",
        "  embedding.append(words)"
      ],
      "execution_count": 0,
      "outputs": [
        {
          "output_type": "stream",
          "text": [
            "мисшн\n",
            "__\n",
            "рсг\n",
            "ЯДом\n",
            "wp8\n",
            "о_О\n"
          ],
          "name": "stdout"
        }
      ]
    },
    {
      "cell_type": "code",
      "metadata": {
        "id": "1vfjShFw9-d_",
        "colab_type": "code",
        "outputId": "30a34483-456a-4bb1-b277-8765f069f9f6",
        "colab": {
          "base_uri": "https://localhost:8080/",
          "height": 35
        }
      },
      "source": [
        "len(embedding[0])"
      ],
      "execution_count": 0,
      "outputs": [
        {
          "output_type": "execute_result",
          "data": {
            "text/plain": [
              "27"
            ]
          },
          "metadata": {
            "tags": []
          },
          "execution_count": 319
        }
      ]
    },
    {
      "cell_type": "code",
      "metadata": {
        "id": "TC2PrATLoapt",
        "colab_type": "code",
        "colab": {}
      },
      "source": [
        "d=pd.DataFrame(embedding)"
      ],
      "execution_count": 0,
      "outputs": []
    },
    {
      "cell_type": "code",
      "metadata": {
        "id": "6trpCNcXJoaF",
        "colab_type": "code",
        "outputId": "34df725f-30ed-49c6-b3a7-72d8c9e83e0d",
        "colab": {
          "base_uri": "https://localhost:8080/",
          "height": 35
        }
      },
      "source": [
        "d.shape"
      ],
      "execution_count": 0,
      "outputs": [
        {
          "output_type": "execute_result",
          "data": {
            "text/plain": [
              "(3567, 27)"
            ]
          },
          "metadata": {
            "tags": []
          },
          "execution_count": 321
        }
      ]
    },
    {
      "cell_type": "code",
      "metadata": {
        "id": "KL-q2fz7zquE",
        "colab_type": "code",
        "colab": {}
      },
      "source": [
        "x_train, x_test, y_train, y_test = train_test_split(embedding, labels, test_size=0.3, random_state=42)"
      ],
      "execution_count": 0,
      "outputs": []
    },
    {
      "cell_type": "code",
      "metadata": {
        "id": "HvBgvND-qKz5",
        "colab_type": "code",
        "colab": {}
      },
      "source": [
        "x_train=np.asarray(x_train)\n",
        "x_test=np.asarray(x_test)\n",
        "y_train=np.asarray(y_train)\n",
        "y_test=np.asarray(y_test)\n",
        "x_train2=x_train.transpose(0,2,1)\n",
        "x_test2=x_test.transpose(0,2,1)\n"
      ],
      "execution_count": 0,
      "outputs": []
    },
    {
      "cell_type": "code",
      "metadata": {
        "id": "MBpor8lX3jjw",
        "colab_type": "code",
        "colab": {}
      },
      "source": [
        "x_train2 = x_train2.reshape(x_train2.shape[0], 300, 27, 1)\n",
        "x_test2 = x_test2.reshape(x_test2.shape[0], 300, 27, 1)"
      ],
      "execution_count": 0,
      "outputs": []
    },
    {
      "cell_type": "code",
      "metadata": {
        "id": "J7AHzBv__RBe",
        "colab_type": "code",
        "outputId": "4addfc2a-657d-4c66-ea5b-7715a1310974",
        "colab": {
          "base_uri": "https://localhost:8080/",
          "height": 178
        }
      },
      "source": [
        "from keras.models import Sequential\n",
        "from keras.layers import Dense, Dropout, Flatten\n",
        "from keras.layers import Conv2D, MaxPooling2D\n",
        "from keras import backend as K\n",
        "\n",
        "model = Sequential()\n",
        "model.add(Conv2D(50, kernel_size=(3,7), input_shape=(300,27,1)))\n",
        "model.add(MaxPooling2D(pool_size=(2, 2),strides=(2, 3)))\n",
        "model.add(Flatten()) # Flattening the 2D arrays for fully connected layers\n",
        "model.add(Dense(256,activation=tf.nn.relu))\n",
        "model.add(Dense(300,activation=tf.nn.relu))\n",
        "model.add(Dense(300,activation=tf.nn.relu))\n",
        "model.add(Dropout(0.3))\n",
        "model.add(Dense(1,activation=tf.nn.softmax))\n",
        "\n",
        "model.compile(loss='binary_crossentropy',\n",
        "              optimizer='Adam',\n",
        "              metrics=['accuracy'])\n",
        "\n",
        "model.fit(x_train2, y_train,\n",
        "          batch_size=60,\n",
        "          epochs=3,\n",
        "          verbose=1,\n",
        "          validation_data=(x_test2, y_test))\n",
        "score = model.evaluate(x_test2, y_test, verbose=0)\n",
        "print('Test loss:', score[0])\n",
        "print('Test accuracy:', score[1])"
      ],
      "execution_count": 0,
      "outputs": [
        {
          "output_type": "stream",
          "text": [
            "Train on 2496 samples, validate on 1071 samples\n",
            "Epoch 1/3\n",
            "2496/2496 [==============================] - 35s 14ms/step - loss: 25.3443 - acc: 0.2051 - val_loss: 24.5016 - val_acc: 0.2316\n",
            "Epoch 2/3\n",
            "2496/2496 [==============================] - 33s 13ms/step - loss: 25.3443 - acc: 0.2051 - val_loss: 24.5016 - val_acc: 0.2316\n",
            "Epoch 3/3\n",
            "2496/2496 [==============================] - 33s 13ms/step - loss: 25.3443 - acc: 0.2051 - val_loss: 24.5016 - val_acc: 0.2316\n",
            "Test loss: 24.50155572864522\n",
            "Test accuracy: 0.231559290480213\n"
          ],
          "name": "stdout"
        }
      ]
    },
    {
      "cell_type": "code",
      "metadata": {
        "id": "tWXHUyqeKGp_",
        "colab_type": "code",
        "outputId": "d5da3947-3f79-4b4a-840c-e49f9aeeb979",
        "colab": {
          "base_uri": "https://localhost:8080/",
          "height": 160
        }
      },
      "source": [
        "from sklearn.metrics import accuracy_score\n",
        "from sklearn.metrics import precision_score\n",
        "from sklearn.metrics import recall_score\n",
        "from sklearn.metrics import f1_score\n",
        "from sklearn.metrics import cohen_kappa_score\n",
        "from sklearn.metrics import roc_auc_score\n",
        "from sklearn.metrics import confusion_matrix\n",
        "\n",
        "yhat_probs = model.predict(x_test2, verbose=0)\n",
        "# predict crisp classes for test set\n",
        "yhat_classes = model.predict_classes(x_test2, verbose=0)\n",
        "# reduce to 1d array\n",
        "yhat_probs = yhat_probs[:, 0]\n",
        "yhat_classes = yhat_classes[:, 0]\n",
        " \n",
        "# accuracy: (tp + tn) / (p + n)\n",
        "accuracy = accuracy_score(y_test, yhat_classes)\n",
        "print('Accuracy: %f' % accuracy)\n",
        "# precision tp / (tp + fp)\n",
        "precision = precision_score(y_test, yhat_classes)\n",
        "print('Precision: %f' % precision)\n",
        "# recall: tp / (tp + fn)\n",
        "recall = recall_score(y_test, yhat_classes)\n",
        "print('Recall: %f' % recall)\n",
        "# f1: 2 tp / (2 tp + fp + fn)\n",
        "f1 = f1_score(y_test, yhat_classes)\n",
        "print('F1 score: %f' % f1)\n",
        " \n",
        "# kappa\n",
        "kappa = cohen_kappa_score(y_test, yhat_classes)\n",
        "print('Cohens kappa: %f' % kappa)\n",
        "# ROC AUC\n",
        "auc = roc_auc_score(y_test, yhat_probs)\n",
        "print('ROC AUC: %f' % auc)\n",
        "# confusion matrix\n",
        "matrix = confusion_matrix(y_test, yhat_classes)\n",
        "print(matrix)"
      ],
      "execution_count": 0,
      "outputs": [
        {
          "output_type": "stream",
          "text": [
            "Accuracy: 0.231559\n",
            "Precision: 0.231559\n",
            "Recall: 1.000000\n",
            "F1 score: 0.376042\n",
            "Cohens kappa: 0.000000\n",
            "ROC AUC: 0.500000\n",
            "[[  0 823]\n",
            " [  0 248]]\n"
          ],
          "name": "stdout"
        }
      ]
    }
  ]
}