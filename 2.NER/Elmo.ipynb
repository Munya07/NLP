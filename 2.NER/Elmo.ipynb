{
  "nbformat": 4,
  "nbformat_minor": 0,
  "metadata": {
    "colab": {
      "name": "NER Elmo",
      "version": "0.3.2",
      "provenance": [],
      "include_colab_link": true
    },
    "language_info": {
      "codemirror_mode": {
        "name": "ipython",
        "version": 3
      },
      "file_extension": ".py",
      "mimetype": "text/x-python",
      "name": "python",
      "nbconvert_exporter": "python",
      "pygments_lexer": "ipython3",
      "version": "3.6.5"
    },
    "kernelspec": {
      "display_name": "Python 3",
      "language": "python",
      "name": "python3"
    }
  },
  "cells": [
    {
      "cell_type": "markdown",
      "metadata": {
        "id": "view-in-github",
        "colab_type": "text"
      },
      "source": [
        "<a href=\"https://colab.research.google.com/github/Munya07/NLP/blob/master/2.NER/Elmo.ipynb\" target=\"_parent\"><img src=\"https://colab.research.google.com/assets/colab-badge.svg\" alt=\"Open In Colab\"/></a>"
      ]
    },
    {
      "cell_type": "code",
      "metadata": {
        "id": "8Pe7drwwTu5n",
        "colab_type": "code",
        "outputId": "fba9610d-0541-447a-e31b-2239cb347d17",
        "colab": {
          "base_uri": "https://localhost:8080/",
          "height": 93
        }
      },
      "source": [
        "# Keras==1.0.6\n",
        "import numpy as np\n",
        "from keras.layers.recurrent import LSTM\n",
        "from keras.layers.core import  Activation\n",
        "from keras.preprocessing.sequence import pad_sequences\n",
        "from keras.layers.embeddings import Embedding\n",
        "from sklearn.model_selection import train_test_split\n",
        "from sklearn.metrics import confusion_matrix, accuracy_score, precision_recall_fscore_support\n",
        "import tensorflow_hub as hub\n",
        "from keras.layers import Dense,TimeDistributed\n",
        "import keras.layers as layers\n",
        "from keras.models import Model,Sequential\n",
        "import tensorflow as tf\n",
        "from keras import backend as K\n",
        "from keras.engine.topology import Layer\n",
        "from keras.layers import *"
      ],
      "execution_count": 1,
      "outputs": [
        {
          "output_type": "stream",
          "text": [
            "Using TensorFlow backend.\n",
            "WARNING: Logging before flag parsing goes to stderr.\n",
            "W0606 06:57:35.915053 139849357653888 __init__.py:56] Some hub symbols are not available because TensorFlow version is less than 1.14\n"
          ],
          "name": "stderr"
        }
      ]
    },
    {
      "cell_type": "code",
      "metadata": {
        "id": "0IfMY9KkTu5u",
        "colab_type": "code",
        "outputId": "7c52d6c7-e99d-479f-941e-56c8e4924492",
        "colab": {
          "base_uri": "https://localhost:8080/",
          "height": 150
        }
      },
      "source": [
        "from google.colab import drive\n",
        "drive.mount('/content/drive',force_remount=True)\n",
        "raw = open('drive/My Drive/elmo/wikigold.conll.txt', 'r').readlines()\n",
        " \n",
        "all_x = []\n",
        "point = []\n",
        "for line in raw:\n",
        "    stripped_line = line.strip().split(' ')\n",
        "    point.append(stripped_line)\n",
        "    if line == '\\n':\n",
        "        all_x.append(point[:-1])\n",
        "        point = []\n",
        "all_x = all_x[:-1]\n",
        " \n",
        "lengths = [len(x) for x in all_x]\n",
        "print('Input sequence length range: ', max(lengths), min(lengths))\n",
        " \n",
        "short_x = [x for x in all_x if len(x) < 64]\n",
        " \n",
        "X = [[c[0] for c in x] for x in short_x]\n",
        "y = [[c[1] for c in y] for y in short_x]\n",
        " \n",
        "all_text = [c for x in X for c in x]\n"
      ],
      "execution_count": 2,
      "outputs": [
        {
          "output_type": "stream",
          "text": [
            "Go to this URL in a browser: https://accounts.google.com/o/oauth2/auth?client_id=947318989803-6bn6qk8qdgf4n4g3pfee6491hc0brc4i.apps.googleusercontent.com&redirect_uri=urn%3Aietf%3Awg%3Aoauth%3A2.0%3Aoob&scope=email%20https%3A%2F%2Fwww.googleapis.com%2Fauth%2Fdocs.test%20https%3A%2F%2Fwww.googleapis.com%2Fauth%2Fdrive%20https%3A%2F%2Fwww.googleapis.com%2Fauth%2Fdrive.photos.readonly%20https%3A%2F%2Fwww.googleapis.com%2Fauth%2Fpeopleapi.readonly&response_type=code\n",
            "\n",
            "Enter your authorization code:\n",
            "··········\n",
            "Mounted at /content/drive\n",
            "Input sequence length range:  144 1\n"
          ],
          "name": "stdout"
        }
      ]
    },
    {
      "cell_type": "code",
      "metadata": {
        "id": "C8b4NwD4Tu50",
        "colab_type": "code",
        "colab": {
          "base_uri": "https://localhost:8080/",
          "height": 36
        },
        "outputId": "cd701ada-c092-444f-bc14-7b0b7bec6065"
      },
      "source": [
        "words = list(set(all_text))\n",
        "word2ind = {word: index for index, word in enumerate(words)}\n",
        "ind2word = {index: word for index, word in enumerate(words)}\n",
        "labels = list(set([c for x in y for c in x]))\n",
        "label2ind = {label: (index + 1) for index, label in enumerate(labels)}\n",
        "ind2label = {(index + 1): label for index, label in enumerate(labels)}\n",
        "print('Vocabulary size:', len(word2ind), len(label2ind))"
      ],
      "execution_count": 3,
      "outputs": [
        {
          "output_type": "stream",
          "text": [
            "Vocabulary size: 8285 5\n"
          ],
          "name": "stdout"
        }
      ]
    },
    {
      "cell_type": "code",
      "metadata": {
        "id": "7xZ7J32WTu55",
        "colab_type": "code",
        "colab": {}
      },
      "source": [
        "maxlen = max([len(x) for x in X])\n",
        "print('Maximum sequence length:', maxlen)\n",
        "print(label2ind)"
      ],
      "execution_count": 0,
      "outputs": []
    },
    {
      "cell_type": "code",
      "metadata": {
        "id": "8a3GQVLQTu6B",
        "colab_type": "code",
        "colab": {}
      },
      "source": [
        "def encode(x, n):\n",
        "    result = np.zeros(n)\n",
        "    result[x] = 1\n",
        "    return result\n",
        " \n",
        "X_enc = [[word2ind[c] for c in x] for x in X]\n",
        "max_label = max(label2ind.values()) + 1\n",
        "y_enc = [[0] * (maxlen - len(ey)) + [label2ind[c] for c in ey] for ey in y]\n",
        "y_enc = [[encode(c, max_label) for c in ey] for ey in y_enc]\n",
        " \n",
        "X_enc = pad_sequences(X_enc, maxlen=maxlen)\n",
        "y_enc = pad_sequences(y_enc, maxlen=maxlen)"
      ],
      "execution_count": 0,
      "outputs": []
    },
    {
      "cell_type": "code",
      "metadata": {
        "id": "eopEccilTu6F",
        "colab_type": "code",
        "colab": {
          "base_uri": "https://localhost:8080/",
          "height": 36
        },
        "outputId": "c27ba68e-5c17-4524-b3a9-a46e72037509"
      },
      "source": [
        "X_train, X_test, y_train, y_test = train_test_split(X_enc, y_enc, test_size=11*32, train_size=45*32, random_state=42)\n",
        "print('Training and testing tensor shapes:', X_train.shape, X_test.shape, y_train.shape, y_test.shape)\n",
        " \n",
        "max_features = len(word2ind)\n",
        "embedding_size = 300\n",
        "hidden_size = 32\n",
        "out_size = len(label2ind) + 1\n",
        "batch_size = 32"
      ],
      "execution_count": 6,
      "outputs": [
        {
          "output_type": "stream",
          "text": [
            "Training and testing tensor shapes: (1440, 63) (352, 63) (1440, 63, 6) (352, 63, 6)\n"
          ],
          "name": "stdout"
        }
      ]
    },
    {
      "cell_type": "code",
      "metadata": {
        "id": "aFYScg2lTu6I",
        "colab_type": "code",
        "colab": {
          "base_uri": "https://localhost:8080/",
          "height": 150
        },
        "outputId": "06ba91ae-7be9-4878-9d23-a3d2fc349260"
      },
      "source": [
        "elmo_model = hub.Module(\"https://tfhub.dev/google/elmo/2\", trainable=True)"
      ],
      "execution_count": 7,
      "outputs": [
        {
          "output_type": "stream",
          "text": [
            "WARNING:tensorflow:From /usr/local/lib/python3.6/dist-packages/tensorflow/python/ops/control_flow_ops.py:3632: colocate_with (from tensorflow.python.framework.ops) is deprecated and will be removed in a future version.\n",
            "Instructions for updating:\n",
            "Colocations handled automatically by placer.\n"
          ],
          "name": "stdout"
        },
        {
          "output_type": "stream",
          "text": [
            "W0606 06:59:25.732404 139849357653888 deprecation.py:323] From /usr/local/lib/python3.6/dist-packages/tensorflow/python/ops/control_flow_ops.py:3632: colocate_with (from tensorflow.python.framework.ops) is deprecated and will be removed in a future version.\n",
            "Instructions for updating:\n",
            "Colocations handled automatically by placer.\n"
          ],
          "name": "stderr"
        }
      ]
    },
    {
      "cell_type": "code",
      "metadata": {
        "id": "TfhMMI18Tu6L",
        "colab_type": "code",
        "colab": {}
      },
      "source": [
        "sess = tf.Session()\n",
        "K.set_session(sess)\n",
        "sess.run(tf.global_variables_initializer())\n",
        "sess.run(tf.tables_initializer())"
      ],
      "execution_count": 0,
      "outputs": []
    },
    {
      "cell_type": "code",
      "metadata": {
        "id": "WfDjrFuvTu6O",
        "colab_type": "code",
        "colab": {}
      },
      "source": [
        "\n",
        "class ELMoEmbedding(Layer):\n",
        "\n",
        "    def __init__(self, idx2word, output_mode=\"default\", trainable=True, **kwargs):\n",
        "        assert output_mode in [\"default\", \"word_emb\", \"lstm_outputs1\", \"lstm_outputs2\", \"elmo\"]\n",
        "        assert trainable in [True, False]\n",
        "        self.idx2word = idx2word\n",
        "        self.output_mode = output_mode\n",
        "        self.trainable = trainable\n",
        "        self.max_length = None\n",
        "        self.word_mapping = None\n",
        "        self.lookup_table = None\n",
        "        self.elmo_model = None\n",
        "        self.embedding = None\n",
        "        super(ELMoEmbedding, self).__init__(**kwargs)\n",
        "\n",
        "    def build(self, input_shape):\n",
        "        self.max_length = input_shape[1]\n",
        "        self.word_mapping = [x[1] for x in sorted(self.idx2word.items(), key=lambda x: x[0])]\n",
        "        self.lookup_table = tf.contrib.lookup.index_to_string_table_from_tensor(self.word_mapping, default_value=\"<UNK>\")\n",
        "        self.lookup_table.init.run(session=K.get_session())\n",
        "        self.elmo_model = hub.Module(\"https://tfhub.dev/google/elmo/2\", trainable=self.trainable)\n",
        "        super(ELMoEmbedding, self).build(input_shape)\n",
        "\n",
        "    def call(self, x):\n",
        "        x = tf.cast(x, dtype=tf.int64)\n",
        "        sequence_lengths = tf.cast(tf.count_nonzero(x, axis=1), dtype=tf.int32)\n",
        "        strings = tf.squeeze(self.lookup_table.lookup(x))\n",
        "        inputs = {\n",
        "            \"tokens\": strings,\n",
        "            \"sequence_len\": sequence_lengths\n",
        "        }\n",
        "        return self.elmo_model(inputs, signature=\"tokens\", as_dict=True)[self.output_mode]\n",
        "\n",
        "    def compute_output_shape(self, input_shape):\n",
        "        if self.output_mode == \"default\":\n",
        "            return (input_shape[0], 1024)\n",
        "        if self.output_mode == \"word_emb\":\n",
        "            return (input_shape[0], self.max_length, 512)\n",
        "        if self.output_mode == \"lstm_outputs1\":\n",
        "            return (input_shape[0], self.max_length, 1024)\n",
        "        if self.output_mode == \"lstm_outputs2\":\n",
        "            return (input_shape[0], self.max_length, 1024)\n",
        "        if self.output_mode == \"elmo\":\n",
        "            return (input_shape[0], self.max_length, 1024)\n",
        "\n",
        "    def get_config(self):\n",
        "        config = {\n",
        "            'idx2word': self.idx2word,\n",
        "            'output_mode': self.output_mode \n",
        "        }\n",
        "        return list(config.items())\n"
      ],
      "execution_count": 0,
      "outputs": []
    },
    {
      "cell_type": "code",
      "metadata": {
        "id": "a30Y87sPTu6R",
        "colab_type": "code",
        "colab": {
          "base_uri": "https://localhost:8080/",
          "height": 431
        },
        "outputId": "f80b2b9d-7116-4e93-81b1-85d4e7fa6021"
      },
      "source": [
        "sentence_input = Input(shape=(X_train.shape[1],), dtype=tf.int64)\n",
        "sentence_embedding = ELMoEmbedding(idx2word=ind2word, output_mode=\"elmo\", trainable=True)(sentence_input) # These two are interchangeable"
      ],
      "execution_count": 11,
      "outputs": [
        {
          "output_type": "stream",
          "text": [
            "\n",
            "WARNING: The TensorFlow contrib module will not be included in TensorFlow 2.0.\n",
            "For more information, please see:\n",
            "  * https://github.com/tensorflow/community/blob/master/rfcs/20180907-contrib-sunset.md\n",
            "  * https://github.com/tensorflow/addons\n",
            "If you depend on functionality not listed there, please file an issue.\n",
            "\n",
            "WARNING:tensorflow:From /usr/local/lib/python3.6/dist-packages/tensorflow/python/ops/lookup_ops.py:1318: to_int64 (from tensorflow.python.ops.math_ops) is deprecated and will be removed in a future version.\n",
            "Instructions for updating:\n",
            "Use tf.cast instead.\n"
          ],
          "name": "stdout"
        },
        {
          "output_type": "stream",
          "text": [
            "W0606 06:59:52.450593 139849357653888 deprecation.py:323] From /usr/local/lib/python3.6/dist-packages/tensorflow/python/ops/lookup_ops.py:1318: to_int64 (from tensorflow.python.ops.math_ops) is deprecated and will be removed in a future version.\n",
            "Instructions for updating:\n",
            "Use tf.cast instead.\n"
          ],
          "name": "stderr"
        },
        {
          "output_type": "stream",
          "text": [
            "WARNING:tensorflow:From <ipython-input-10-316b88bffc30>:21: InitializableLookupTableBase.init (from tensorflow.python.ops.lookup_ops) is deprecated and will be removed after 2018-12-15.\n",
            "Instructions for updating:\n",
            "Use `initializer` instead.\n"
          ],
          "name": "stdout"
        },
        {
          "output_type": "stream",
          "text": [
            "W0606 06:59:52.461754 139849357653888 deprecation.py:323] From <ipython-input-10-316b88bffc30>:21: InitializableLookupTableBase.init (from tensorflow.python.ops.lookup_ops) is deprecated and will be removed after 2018-12-15.\n",
            "Instructions for updating:\n",
            "Use `initializer` instead.\n"
          ],
          "name": "stderr"
        },
        {
          "output_type": "stream",
          "text": [
            "INFO:tensorflow:Saver not created because there are no variables in the graph to restore\n"
          ],
          "name": "stdout"
        },
        {
          "output_type": "stream",
          "text": [
            "I0606 06:59:54.009560 139849357653888 saver.py:1483] Saver not created because there are no variables in the graph to restore\n"
          ],
          "name": "stderr"
        }
      ]
    },
    {
      "cell_type": "code",
      "metadata": {
        "id": "S9hPGaZaTu6U",
        "colab_type": "code",
        "colab": {
          "base_uri": "https://localhost:8080/",
          "height": 150
        },
        "outputId": "e474c9f9-1c33-4c97-d947-7e4d9f72004f"
      },
      "source": [
        "dropout = Dropout(0.5)(sentence_embedding)\n",
        "lstm_ = LSTM(hidden_size,batch_size=batch_size, return_sequences=True)(sentence_embedding)\n",
        "timed_ = layers.TimeDistributed(layers.Dense(out_size))(lstm_)\n",
        "pred = layers.Activation('softmax')(timed_)"
      ],
      "execution_count": 12,
      "outputs": [
        {
          "output_type": "stream",
          "text": [
            "WARNING:tensorflow:From /usr/local/lib/python3.6/dist-packages/keras/backend/tensorflow_backend.py:3445: calling dropout (from tensorflow.python.ops.nn_ops) with keep_prob is deprecated and will be removed in a future version.\n",
            "Instructions for updating:\n",
            "Please use `rate` instead of `keep_prob`. Rate should be set to `rate = 1 - keep_prob`.\n"
          ],
          "name": "stdout"
        },
        {
          "output_type": "stream",
          "text": [
            "W0606 07:00:02.056487 139849357653888 deprecation.py:506] From /usr/local/lib/python3.6/dist-packages/keras/backend/tensorflow_backend.py:3445: calling dropout (from tensorflow.python.ops.nn_ops) with keep_prob is deprecated and will be removed in a future version.\n",
            "Instructions for updating:\n",
            "Please use `rate` instead of `keep_prob`. Rate should be set to `rate = 1 - keep_prob`.\n"
          ],
          "name": "stderr"
        }
      ]
    },
    {
      "cell_type": "code",
      "metadata": {
        "id": "BMjjKaSOTu6W",
        "colab_type": "code",
        "colab": {
          "base_uri": "https://localhost:8080/",
          "height": 336
        },
        "outputId": "fbca7211-445b-45a3-9448-388b9a15e1e2"
      },
      "source": [
        "model = Model(inputs=[sentence_input], outputs=pred)\n",
        "model.compile(loss='categorical_crossentropy', optimizer='adam')\n",
        "model.summary()"
      ],
      "execution_count": 13,
      "outputs": [
        {
          "output_type": "stream",
          "text": [
            "_________________________________________________________________\n",
            "Layer (type)                 Output Shape              Param #   \n",
            "=================================================================\n",
            "input_1 (InputLayer)         (None, 63)                0         \n",
            "_________________________________________________________________\n",
            "el_mo_embedding_1 (ELMoEmbed (None, 63, 1024)          0         \n",
            "_________________________________________________________________\n",
            "lstm_1 (LSTM)                (None, 63, 32)            135296    \n",
            "_________________________________________________________________\n",
            "time_distributed_1 (TimeDist (None, 63, 6)             198       \n",
            "_________________________________________________________________\n",
            "activation_1 (Activation)    (None, 63, 6)             0         \n",
            "=================================================================\n",
            "Total params: 135,494\n",
            "Trainable params: 135,494\n",
            "Non-trainable params: 0\n",
            "_________________________________________________________________\n"
          ],
          "name": "stdout"
        }
      ]
    },
    {
      "cell_type": "code",
      "metadata": {
        "id": "mx7qIPojTu6Z",
        "colab_type": "code",
        "colab": {
          "base_uri": "https://localhost:8080/",
          "height": 731
        },
        "outputId": "3476e203-6a77-49d6-8169-bbea6b31104d"
      },
      "source": [
        "model.fit(X_train, y_train, batch_size=batch_size, nb_epoch=10, validation_data=(X_test, y_test))\n",
        "score = model.evaluate(X_test, y_test, batch_size=batch_size)\n",
        "print('Raw test score:', score)"
      ],
      "execution_count": 14,
      "outputs": [
        {
          "output_type": "stream",
          "text": [
            "WARNING:tensorflow:From /usr/local/lib/python3.6/dist-packages/tensorflow/python/ops/math_ops.py:3066: to_int32 (from tensorflow.python.ops.math_ops) is deprecated and will be removed in a future version.\n",
            "Instructions for updating:\n",
            "Use tf.cast instead.\n"
          ],
          "name": "stdout"
        },
        {
          "output_type": "stream",
          "text": [
            "/usr/local/lib/python3.6/dist-packages/ipykernel_launcher.py:1: UserWarning: The `nb_epoch` argument in `fit` has been renamed `epochs`.\n",
            "  \"\"\"Entry point for launching an IPython kernel.\n",
            "W0606 07:00:18.732109 139849357653888 deprecation.py:323] From /usr/local/lib/python3.6/dist-packages/tensorflow/python/ops/math_ops.py:3066: to_int32 (from tensorflow.python.ops.math_ops) is deprecated and will be removed in a future version.\n",
            "Instructions for updating:\n",
            "Use tf.cast instead.\n"
          ],
          "name": "stderr"
        },
        {
          "output_type": "stream",
          "text": [
            "WARNING:tensorflow:From /usr/local/lib/python3.6/dist-packages/tensorflow/python/ops/math_grad.py:102: div (from tensorflow.python.ops.math_ops) is deprecated and will be removed in a future version.\n",
            "Instructions for updating:\n",
            "Deprecated in favor of operator or tf.math.divide.\n"
          ],
          "name": "stdout"
        },
        {
          "output_type": "stream",
          "text": [
            "W0606 07:00:18.872201 139849357653888 deprecation.py:323] From /usr/local/lib/python3.6/dist-packages/tensorflow/python/ops/math_grad.py:102: div (from tensorflow.python.ops.math_ops) is deprecated and will be removed in a future version.\n",
            "Instructions for updating:\n",
            "Deprecated in favor of operator or tf.math.divide.\n"
          ],
          "name": "stderr"
        },
        {
          "output_type": "stream",
          "text": [
            "Train on 1440 samples, validate on 352 samples\n",
            "Epoch 1/10\n",
            "1440/1440 [==============================] - 673s 468ms/step - loss: 0.5268 - val_loss: 0.2593\n",
            "Epoch 2/10\n",
            "1440/1440 [==============================] - 670s 466ms/step - loss: 0.2068 - val_loss: 0.1704\n",
            "Epoch 3/10\n",
            "1440/1440 [==============================] - 658s 457ms/step - loss: 0.1492 - val_loss: 0.1332\n",
            "Epoch 4/10\n",
            "1440/1440 [==============================] - 666s 462ms/step - loss: 0.1206 - val_loss: 0.1125\n",
            "Epoch 5/10\n",
            "1440/1440 [==============================] - 659s 458ms/step - loss: 0.1032 - val_loss: 0.0996\n",
            "Epoch 6/10\n",
            "1440/1440 [==============================] - 664s 461ms/step - loss: 0.0913 - val_loss: 0.0904\n",
            "Epoch 7/10\n",
            "1440/1440 [==============================] - 674s 468ms/step - loss: 0.0825 - val_loss: 0.0836\n",
            "Epoch 8/10\n",
            "1440/1440 [==============================] - 706s 490ms/step - loss: 0.0756 - val_loss: 0.0783\n",
            "Epoch 9/10\n",
            "1440/1440 [==============================] - 661s 459ms/step - loss: 0.0701 - val_loss: 0.0743\n",
            "Epoch 10/10\n",
            "1440/1440 [==============================] - 662s 460ms/step - loss: 0.0655 - val_loss: 0.0717\n",
            "352/352 [==============================] - 129s 366ms/step\n",
            "Raw test score: 0.07172049209475517\n"
          ],
          "name": "stdout"
        }
      ]
    },
    {
      "cell_type": "code",
      "metadata": {
        "id": "VozFBHuPTu6f",
        "colab_type": "code",
        "colab": {}
      },
      "source": [
        "def score(yh, pr):\n",
        "    coords = [np.where(yhh > 0)[0][0] for yhh in yh]\n",
        "    yh = [yhh[co:] for yhh, co in zip(yh, coords)]\n",
        "    ypr = [prr[co:] for prr, co in zip(pr, coords)]\n",
        "    fyh = [c for row in yh for c in row]\n",
        "    fpr = [c for row in ypr for c in row]\n",
        "    return fyh, fpr"
      ],
      "execution_count": 0,
      "outputs": []
    },
    {
      "cell_type": "code",
      "metadata": {
        "id": "Sz3sa4K9Tu6k",
        "colab_type": "code",
        "colab": {}
      },
      "source": [
        "y_prob = model.predict(X_train) \n",
        "y_classes = y_prob.argmax(axis=-1)"
      ],
      "execution_count": 0,
      "outputs": []
    },
    {
      "cell_type": "code",
      "metadata": {
        "id": "mMjONeG6Tu6o",
        "colab_type": "code",
        "colab": {
          "base_uri": "https://localhost:8080/",
          "height": 148
        },
        "outputId": "48e1b8dc-6b2b-4e0f-b091-bf0936ec89d5"
      },
      "source": [
        "y_classes"
      ],
      "execution_count": 18,
      "outputs": [
        {
          "output_type": "execute_result",
          "data": {
            "text/plain": [
              "array([[0, 0, 0, ..., 4, 4, 4],\n",
              "       [0, 0, 0, ..., 4, 4, 4],\n",
              "       [0, 0, 0, ..., 0, 0, 4],\n",
              "       ...,\n",
              "       [0, 0, 0, ..., 4, 4, 4],\n",
              "       [0, 0, 0, ..., 3, 1, 4],\n",
              "       [0, 0, 0, ..., 4, 3, 4]])"
            ]
          },
          "metadata": {
            "tags": []
          },
          "execution_count": 18
        }
      ]
    },
    {
      "cell_type": "code",
      "metadata": {
        "id": "o3sVUX7cTu6s",
        "colab_type": "code",
        "colab": {
          "base_uri": "https://localhost:8080/",
          "height": 73
        },
        "outputId": "f9eaaa10-df51-4bb5-d145-1a79811b90b6"
      },
      "source": [
        "y_classes[0]"
      ],
      "execution_count": 19,
      "outputs": [
        {
          "output_type": "execute_result",
          "data": {
            "text/plain": [
              "array([0, 0, 0, 0, 0, 0, 0, 0, 0, 0, 0, 0, 0, 0, 0, 0, 0, 0, 0, 0, 0, 0,\n",
              "       0, 0, 0, 0, 0, 0, 0, 0, 0, 0, 0, 0, 0, 0, 0, 0, 0, 0, 0, 0, 0, 0,\n",
              "       0, 0, 0, 0, 0, 0, 0, 0, 0, 0, 0, 0, 0, 0, 4, 4, 4, 4, 4])"
            ]
          },
          "metadata": {
            "tags": []
          },
          "execution_count": 19
        }
      ]
    },
    {
      "cell_type": "code",
      "metadata": {
        "id": "GP7LF-eATu6v",
        "colab_type": "code",
        "colab": {}
      },
      "source": [
        "yh = y_train.argmax(2)"
      ],
      "execution_count": 0,
      "outputs": []
    },
    {
      "cell_type": "code",
      "metadata": {
        "id": "TRTjU2-gTu6y",
        "colab_type": "code",
        "colab": {
          "base_uri": "https://localhost:8080/",
          "height": 223
        },
        "outputId": "624b45e0-afd5-4261-9109-c7c5834765a2"
      },
      "source": [
        "pr=y_classes\n",
        "fyh, fpr = score(yh, pr)\n",
        "print('Training accuracy:', accuracy_score(fyh, fpr))\n",
        "print('Training confusion matrix:')\n",
        "print(confusion_matrix(fyh, fpr))\n",
        "precision_recall_fscore_support(fyh, fpr)"
      ],
      "execution_count": 21,
      "outputs": [
        {
          "output_type": "stream",
          "text": [
            "Training accuracy: 0.9402818991097923\n",
            "Training confusion matrix:\n",
            "[[  857    10    41    81   127]\n",
            " [   88   423    31   315   163]\n",
            " [   33     3  1124    46    20]\n",
            " [   20    53    26 24535   118]\n",
            " [  255    30    54   257   946]]\n"
          ],
          "name": "stdout"
        },
        {
          "output_type": "execute_result",
          "data": {
            "text/plain": [
              "(array([0.6839585 , 0.8150289 , 0.88087774, 0.97229928, 0.68850073]),\n",
              " array([0.76792115, 0.41470588, 0.91680261, 0.99123303, 0.61348898]),\n",
              " array([0.72351203, 0.5497076 , 0.89848122, 0.98167487, 0.64883402]),\n",
              " array([ 1116,  1020,  1226, 24752,  1542]))"
            ]
          },
          "metadata": {
            "tags": []
          },
          "execution_count": 21
        }
      ]
    },
    {
      "cell_type": "code",
      "metadata": {
        "id": "t1dtgQqhTu65",
        "colab_type": "code",
        "colab": {
          "base_uri": "https://localhost:8080/",
          "height": 223
        },
        "outputId": "1b9592d6-2414-46ff-f00d-fc8489efeeb6"
      },
      "source": [
        "y_prob = model.predict(X_test) \n",
        "pr = y_prob.argmax(axis=-1)\n",
        "yh = y_test.argmax(2)\n",
        "fyh, fpr = score(yh, pr)\n",
        "print('Testing accuracy:', accuracy_score(fyh, fpr))\n",
        "print('Testing confusion matrix:')\n",
        "print(confusion_matrix(fyh, fpr))\n",
        "precision_recall_fscore_support(fyh, fpr)"
      ],
      "execution_count": 22,
      "outputs": [
        {
          "output_type": "stream",
          "text": [
            "Testing accuracy: 0.9291807718348003\n",
            "Testing confusion matrix:\n",
            "[[ 182    3   16   18   49]\n",
            " [  32   83    5   93   60]\n",
            " [  15    0  242   13   13]\n",
            " [   9    9   13 6149   24]\n",
            " [  42   10   28   71  206]]\n"
          ],
          "name": "stdout"
        },
        {
          "output_type": "execute_result",
          "data": {
            "text/plain": [
              "(array([0.65      , 0.79047619, 0.79605263, 0.9692623 , 0.58522727]),\n",
              " array([0.67910448, 0.3040293 , 0.85512367, 0.99113475, 0.57703081]),\n",
              " array([0.66423358, 0.43915344, 0.82453152, 0.98007651, 0.58110014]),\n",
              " array([ 268,  273,  283, 6204,  357]))"
            ]
          },
          "metadata": {
            "tags": []
          },
          "execution_count": 22
        }
      ]
    }
  ]
}