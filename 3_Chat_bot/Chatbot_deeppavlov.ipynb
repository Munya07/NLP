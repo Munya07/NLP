{
  "nbformat": 4,
  "nbformat_minor": 0,
  "metadata": {
    "colab": {
      "name": "Chatbot_deeppavlov",
      "version": "0.3.2",
      "provenance": [],
      "collapsed_sections": [],
      "include_colab_link": true
    },
    "kernelspec": {
      "name": "python3",
      "display_name": "Python 3"
    }
  },
  "cells": [
    {
      "cell_type": "markdown",
      "metadata": {
        "id": "view-in-github",
        "colab_type": "text"
      },
      "source": [
        "<a href=\"https://colab.research.google.com/github/Munya07/NLP/blob/master/3_Chat_bot/Chatbot_deeppavlov.ipynb\" target=\"_parent\"><img src=\"https://colab.research.google.com/assets/colab-badge.svg\" alt=\"Open In Colab\"/></a>"
      ]
    },
    {
      "cell_type": "code",
      "metadata": {
        "id": "BoDqGnQIimng",
        "colab_type": "code",
        "colab": {
          "base_uri": "https://localhost:8080/",
          "height": 693
        },
        "outputId": "88f4997b-2397-442a-cdba-8ba6cc70d42a"
      },
      "source": [
        "!pip install -q deeppavlov"
      ],
      "execution_count": 1,
      "outputs": [
        {
          "output_type": "stream",
          "text": [
            "\u001b[K     |████████████████████████████████| 675kB 2.8MB/s \n",
            "\u001b[K     |████████████████████████████████| 61kB 22.1MB/s \n",
            "\u001b[K     |████████████████████████████████| 12.2MB 46.0MB/s \n",
            "\u001b[K     |████████████████████████████████| 11.8MB 36.3MB/s \n",
            "\u001b[K     |████████████████████████████████| 51kB 19.0MB/s \n",
            "\u001b[K     |████████████████████████████████| 4.1MB 39.9MB/s \n",
            "\u001b[K     |████████████████████████████████| 8.0MB 34.5MB/s \n",
            "\u001b[K     |████████████████████████████████| 61kB 20.1MB/s \n",
            "\u001b[K     |████████████████████████████████| 3.4MB 33.2MB/s \n",
            "\u001b[K     |████████████████████████████████| 92kB 27.2MB/s \n",
            "\u001b[K     |████████████████████████████████| 51kB 19.2MB/s \n",
            "\u001b[K     |████████████████████████████████| 307kB 48.1MB/s \n",
            "\u001b[K     |████████████████████████████████| 31.2MB 1.4MB/s \n",
            "\u001b[K     |████████████████████████████████| 12.4MB 41.1MB/s \n",
            "\u001b[K     |████████████████████████████████| 92kB 25.3MB/s \n",
            "\u001b[K     |████████████████████████████████| 2.3MB 34.8MB/s \n",
            "\u001b[K     |████████████████████████████████| 7.1MB 37.3MB/s \n",
            "\u001b[K     |████████████████████████████████| 51kB 18.5MB/s \n",
            "\u001b[K     |████████████████████████████████| 61kB 14.1MB/s \n",
            "\u001b[K     |████████████████████████████████| 143kB 44.5MB/s \n",
            "\u001b[K     |████████████████████████████████| 102kB 27.8MB/s \n",
            "\u001b[?25h  Building wheel for pytelegrambotapi (setup.py) ... \u001b[?25l\u001b[?25hdone\n",
            "  Building wheel for overrides (setup.py) ... \u001b[?25l\u001b[?25hdone\n",
            "\u001b[31mERROR: yellowbrick 0.9.1 has requirement scikit-learn>=0.20, but you'll have scikit-learn 0.19.1 which is incompatible.\u001b[0m\n",
            "\u001b[31mERROR: tensorflow 1.13.1 has requirement keras-applications>=1.0.6, but you'll have keras-applications 1.0.2 which is incompatible.\u001b[0m\n",
            "\u001b[31mERROR: tensorflow 1.13.1 has requirement keras-preprocessing>=1.0.5, but you'll have keras-preprocessing 1.0.1 which is incompatible.\u001b[0m\n",
            "\u001b[31mERROR: spacy 2.0.18 has requirement numpy>=1.15.0, but you'll have numpy 1.14.5 which is incompatible.\u001b[0m\n",
            "\u001b[31mERROR: imgaug 0.2.9 has requirement numpy>=1.15.0, but you'll have numpy 1.14.5 which is incompatible.\u001b[0m\n",
            "\u001b[31mERROR: imbalanced-learn 0.4.3 has requirement scikit-learn>=0.20, but you'll have scikit-learn 0.19.1 which is incompatible.\u001b[0m\n",
            "\u001b[31mERROR: google-colab 1.0.0 has requirement pandas~=0.24.0, but you'll have pandas 0.23.1 which is incompatible.\u001b[0m\n",
            "\u001b[31mERROR: google-colab 1.0.0 has requirement requests~=2.21.0, but you'll have requests 2.19.1 which is incompatible.\u001b[0m\n",
            "\u001b[31mERROR: fbprophet 0.5 has requirement pandas>=0.23.4, but you'll have pandas 0.23.1 which is incompatible.\u001b[0m\n",
            "\u001b[31mERROR: fastai 1.0.52 has requirement numpy>=1.15, but you'll have numpy 1.14.5 which is incompatible.\u001b[0m\n",
            "\u001b[31mERROR: datascience 0.10.6 has requirement folium==0.2.1, but you'll have folium 0.8.3 which is incompatible.\u001b[0m\n",
            "\u001b[31mERROR: albumentations 0.1.12 has requirement imgaug<0.2.7,>=0.2.5, but you'll have imgaug 0.2.9 which is incompatible.\u001b[0m\n"
          ],
          "name": "stdout"
        }
      ]
    },
    {
      "cell_type": "code",
      "metadata": {
        "id": "6qxhXrK9hu_M",
        "colab_type": "code",
        "outputId": "8503374f-b098-4b25-a6d6-e8af753ea54b",
        "colab": {
          "base_uri": "https://localhost:8080/",
          "height": 750
        }
      },
      "source": [
        "!pip install geopy\n",
        "!pip install python-forecastio\n",
        "!pip install darkskylib\n",
        "!pip install dateparser"
      ],
      "execution_count": 2,
      "outputs": [
        {
          "output_type": "stream",
          "text": [
            "Requirement already satisfied: geopy in /usr/local/lib/python3.6/dist-packages (1.17.0)\n",
            "Requirement already satisfied: geographiclib<2,>=1.49 in /usr/local/lib/python3.6/dist-packages (from geopy) (1.49)\n",
            "Collecting python-forecastio\n",
            "  Downloading https://files.pythonhosted.org/packages/0e/57/e837a44254b7fdf99f3e98ef16ddcc4b429c5b148e8ed4fab4b46e7756ea/python-forecastio-1.4.0.tar.gz\n",
            "Requirement already satisfied: requests>=1.6 in /usr/local/lib/python3.6/dist-packages (from python-forecastio) (2.19.1)\n",
            "Collecting responses (from python-forecastio)\n",
            "  Downloading https://files.pythonhosted.org/packages/d1/5a/b887e89925f1de7890ef298a74438371ed4ed29b33def9e6d02dc6036fd8/responses-0.10.6-py2.py3-none-any.whl\n",
            "Requirement already satisfied: certifi>=2017.4.17 in /usr/local/lib/python3.6/dist-packages (from requests>=1.6->python-forecastio) (2019.3.9)\n",
            "Requirement already satisfied: chardet<3.1.0,>=3.0.2 in /usr/local/lib/python3.6/dist-packages (from requests>=1.6->python-forecastio) (3.0.4)\n",
            "Requirement already satisfied: idna<2.8,>=2.5 in /usr/local/lib/python3.6/dist-packages (from requests>=1.6->python-forecastio) (2.7)\n",
            "Requirement already satisfied: urllib3<1.24,>=1.21.1 in /usr/local/lib/python3.6/dist-packages (from requests>=1.6->python-forecastio) (1.23)\n",
            "Requirement already satisfied: six in /usr/local/lib/python3.6/dist-packages (from responses->python-forecastio) (1.12.0)\n",
            "Building wheels for collected packages: python-forecastio\n",
            "  Building wheel for python-forecastio (setup.py) ... \u001b[?25l\u001b[?25hdone\n",
            "  Stored in directory: /root/.cache/pip/wheels/16/9b/2c/a02515345bc95b8a6f285c3f5dff77dcf1bb68b02bf8d5b534\n",
            "Successfully built python-forecastio\n",
            "Installing collected packages: responses, python-forecastio\n",
            "Successfully installed python-forecastio-1.4.0 responses-0.10.6\n",
            "Collecting darkskylib\n",
            "  Downloading https://files.pythonhosted.org/packages/ab/b2/0e12ecc76862e2b4b88cb8e211adc321511e7cf4c3bfc0fd1a13617fbd63/darkskylib-0.3.91-py2.py3-none-any.whl\n",
            "Requirement already satisfied: requests in /usr/local/lib/python3.6/dist-packages (from darkskylib) (2.19.1)\n",
            "Requirement already satisfied: future in /usr/local/lib/python3.6/dist-packages (from darkskylib) (0.16.0)\n",
            "Requirement already satisfied: chardet<3.1.0,>=3.0.2 in /usr/local/lib/python3.6/dist-packages (from requests->darkskylib) (3.0.4)\n",
            "Requirement already satisfied: urllib3<1.24,>=1.21.1 in /usr/local/lib/python3.6/dist-packages (from requests->darkskylib) (1.23)\n",
            "Requirement already satisfied: idna<2.8,>=2.5 in /usr/local/lib/python3.6/dist-packages (from requests->darkskylib) (2.7)\n",
            "Requirement already satisfied: certifi>=2017.4.17 in /usr/local/lib/python3.6/dist-packages (from requests->darkskylib) (2019.3.9)\n",
            "Installing collected packages: darkskylib\n",
            "Successfully installed darkskylib-0.3.91\n",
            "Collecting dateparser\n",
            "\u001b[?25l  Downloading https://files.pythonhosted.org/packages/a0/30/5cb8bb214c0b111fb59137c2e19c636a136209dbe45e1c3e9d63f7a76c1a/dateparser-0.7.1-py2.py3-none-any.whl (351kB)\n",
            "\u001b[K     |████████████████████████████████| 358kB 2.8MB/s \n",
            "\u001b[?25hRequirement already satisfied: tzlocal in /usr/local/lib/python3.6/dist-packages (from dateparser) (1.5.1)\n",
            "Requirement already satisfied: pytz in /usr/local/lib/python3.6/dist-packages (from dateparser) (2018.9)\n",
            "Requirement already satisfied: regex in /usr/local/lib/python3.6/dist-packages (from dateparser) (2018.1.10)\n",
            "Requirement already satisfied: python-dateutil in /usr/local/lib/python3.6/dist-packages (from dateparser) (2.5.3)\n",
            "Requirement already satisfied: six>=1.5 in /usr/local/lib/python3.6/dist-packages (from python-dateutil->dateparser) (1.12.0)\n",
            "Installing collected packages: dateparser\n",
            "Successfully installed dateparser-0.7.1\n"
          ],
          "name": "stdout"
        }
      ]
    },
    {
      "cell_type": "code",
      "metadata": {
        "id": "CVy2dEEFlqH8",
        "colab_type": "code",
        "colab": {}
      },
      "source": [
        "from deeppavlov.contrib.skills.similarity_matching_skill import SimilarityMatchingSkill\n",
        "import spacy\n",
        "from spacy import displacy\n",
        "from collections import Counter\n",
        "import en_core_web_sm\n",
        "nlp = en_core_web_sm.load()\n",
        "from geopy.geocoders import Nominatim\n",
        "from darksky import forecast\n",
        "from datetime import date, timedelta\n",
        "import dateparser\n",
        "import datetime\n"
      ],
      "execution_count": 0,
      "outputs": []
    },
    {
      "cell_type": "code",
      "metadata": {
        "id": "vkC6fmcSuGP1",
        "colab_type": "code",
        "colab": {}
      },
      "source": [
        "from deeppavlov.skills.pattern_matching_skill import PatternMatchingSkill\n",
        "hello = PatternMatchingSkill(responses=['Hi, how can l help you'], patterns=['hi', 'hello', 'How are you'], default_confidence=0.3)\n",
        "bye = PatternMatchingSkill(responses=['Good bye'], patterns=['bye bye', 'bye'], default_confidence=0.3)\n",
        "weather = PatternMatchingSkill(responses=['For which location and date, l can only forecast for 1 week'], patterns=['weather', 'rain','temperature'], default_confidence=0.3)\n",
        "check=PatternMatchingSkill(responses=['Let me check'], patterns=['','what', 'today', 'tomorrow'], default_confidence=0.2)"
      ],
      "execution_count": 0,
      "outputs": []
    },
    {
      "cell_type": "code",
      "metadata": {
        "id": "GFW9IlcZipNq",
        "colab_type": "code",
        "colab": {}
      },
      "source": [
        "from deeppavlov.agents.default_agent.default_agent import DefaultAgent\n",
        "from deeppavlov.agents.processors.highest_confidence_selector import HighestConfidenceSelector\n",
        "agent = DefaultAgent([hello, bye, weather,check], skills_selector=HighestConfidenceSelector())"
      ],
      "execution_count": 0,
      "outputs": []
    },
    {
      "cell_type": "code",
      "metadata": {
        "id": "nSU8bDyzE1m6",
        "colab_type": "code",
        "colab": {}
      },
      "source": [
        "\n",
        "  \n",
        "def run(input): \n",
        "  doc = nlp(input)\n",
        "  dct = dict(( X.label_,X.text) for X in doc.ents)\n",
        "  location = dct.get('GPE')\n",
        "  date=dct.get('DATE')\n",
        "  \n",
        "    \n",
        "    \n",
        "  if location!=None and date!=None:\n",
        "\n",
        "    \n",
        "    import dateparser\n",
        "    d=dateparser.parse(date)\n",
        "    d=str(d)\n",
        "    d=d[:10]\n",
        "    d=datetime.datetime.strptime(d,'%Y-%m-%d').strftime('%m/%d/%y')\n",
        "    \n",
        "    from darksky import forecast\n",
        "    from datetime import date, timedelta\n",
        "\n",
        "    from geopy.geocoders import Nominatim\n",
        "    geolocator = Nominatim(user_agent=\"specify_your_app_name_here\")\n",
        "    location_ = geolocator.geocode(location)\n",
        "\n",
        "    BOSTON = location_.latitude, location_.longitude\n",
        "\n",
        "    weekday = date.today()\n",
        "    with forecast('d6c7239325b1a5e9543d57c7cd385ff4', *BOSTON) as boston:\n",
        "      print('In Summary ',boston.daily.summary, end='\\n---\\n')\n",
        "      for day in boston.daily:\n",
        "          day = dict(day = date.strftime(weekday, '%x'),\n",
        "                     sum = day.summary,\n",
        "                     tempMin = day.temperatureMin,\n",
        "                     tempMax = day.temperatureMax)\n",
        "          if day.get('day')== d:\n",
        "            print('{day}: {sum} Temp range: {tempMin} - {tempMax}'.format(**day))\n",
        "          weekday += timedelta(days=1)\n",
        "      \n",
        "    \n",
        "  else:\n",
        "    if location==None and date!=None:\n",
        "      print('sorry your location might be wrong')\n",
        "      \n",
        "    elif date==None and location!=None:\n",
        "      print('sorry your  date might be wrong, l can only give you weather in the next 7 days')\n",
        "    else:\n",
        "      print('sorry your location and date might be wrong, l can only give you weather in the next 7 days')\n",
        "\n"
      ],
      "execution_count": 0,
      "outputs": []
    },
    {
      "cell_type": "code",
      "metadata": {
        "id": "ZJ_O6a7DxOjP",
        "colab_type": "code",
        "outputId": "5032e8dd-f748-480c-820a-7b257168e5b6",
        "colab": {
          "base_uri": "https://localhost:8080/",
          "height": 1031
        }
      },
      "source": [
        "x=0\n",
        "while x==0:\n",
        "  test_text = input (\"Chat with weather chatbot : \")\n",
        "  print(agent([test_text]))\n",
        "  a=str(agent([test_text])[0])\n",
        "  if a=='Let me check':\n",
        "    run(test_text)\n",
        " \n"
      ],
      "execution_count": 0,
      "outputs": [
        {
          "output_type": "stream",
          "text": [
            "Chat with weather chatbot : hie\n",
            "['Hi, how can l help you']\n",
            "Chat with weather chatbot : tell me the weather\n",
            "['For which location and date, l can only forecast for 1 week']\n",
            "Chat with weather chatbot : Moscow 8June 2019\n",
            "['Let me check']\n",
            "In Summary  Light rain next Thursday, with high temperatures peaking at 89°F on Wednesday.\n",
            "---\n",
            "06/06/19: Clear throughout the day. Temp range: 56.09 - 85.23\n",
            "Chat with weather chatbot : bye\n",
            "['Good bye']\n",
            "Chat with weather chatbot : hie\n",
            "['Hi, how can l help you']\n",
            "Chat with weather chatbot : whats the weather today\n",
            "['For which location and date, l can only forecast for 1 week']\n",
            "Chat with weather chatbot : Novorsibirsk today\n",
            "['Let me check']\n",
            "sorry your location might be wrong\n",
            "Chat with weather chatbot : hie\n",
            "['Hi, how can l help you']\n",
            "Chat with weather chatbot : whats the wether in Moscow tomorrow\n",
            "['Let me check']\n",
            "In Summary  Light rain next Thursday, with high temperatures peaking at 89°F on Wednesday.\n",
            "---\n",
            "06/07/19: Clear throughout the day. Temp range: 62.16 - 88.24\n",
            "Chat with weather chatbot : whats the weather in Japan on 10-07-19\n",
            "['For which location and date, l can only forecast for 1 week']\n",
            "Chat with weather chatbot : whats the weather in Japan on 10/07/19\n",
            "['For which location and date, l can only forecast for 1 week']\n",
            "Chat with weather chatbot : whats the weather in Japan on 10-07-2019\n",
            "['For which location and date, l can only forecast for 1 week']\n",
            "Chat with weather chatbot : whats the weather in Japan on 10 June 2019\n",
            "['For which location and date, l can only forecast for 1 week']\n",
            "Chat with weather chatbot : whats the weather in Harare on 10-07-19\n",
            "['For which location and date, l can only forecast for 1 week']\n",
            "Chat with weather chatbot : Japana 12 June 2019\n",
            "['Let me check']\n",
            "sorry your location might be wrong\n",
            "Chat with weather chatbot : Japan 12 2019\n",
            "['Let me check']\n",
            "In Summary  Rain tomorrow through Wednesday, with high temperatures falling to 58°F on Tuesday.\n",
            "---\n",
            "Chat with weather chatbot : Zimbabwe tomorrow\n",
            "['Let me check']\n",
            "In Summary  No precipitation throughout the week, with high temperatures falling to 77°F on Sunday.\n",
            "---\n",
            "06/07/19: Clear throughout the day. Temp range: 48.87 - 86\n",
            "Chat with weather chatbot : Moscow 12 June 2019\n",
            "['Let me check']\n",
            "In Summary  Light rain next Thursday, with high temperatures peaking at 89°F on Wednesday.\n",
            "---\n",
            "06/12/19: Mostly cloudy starting in the evening. Temp range: 63.92 - 89.16\n"
          ],
          "name": "stdout"
        }
      ]
    }
  ]
}