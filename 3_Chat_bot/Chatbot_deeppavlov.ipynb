{
  "nbformat": 4,
  "nbformat_minor": 0,
  "metadata": {
    "colab": {
      "name": "Chatbot_deeppavlov",
      "version": "0.3.2",
      "provenance": [],
      "collapsed_sections": [],
      "include_colab_link": true
    },
    "kernelspec": {
      "name": "python3",
      "display_name": "Python 3"
    }
  },
  "cells": [
    {
      "cell_type": "markdown",
      "metadata": {
        "id": "view-in-github",
        "colab_type": "text"
      },
      "source": [
        "<a href=\"https://colab.research.google.com/github/Munya07/NLP/blob/master/3_Chat_bot/Deep_pavlov/Chatbot_deeppavlov.ipynb\" target=\"_parent\"><img src=\"https://colab.research.google.com/assets/colab-badge.svg\" alt=\"Open In Colab\"/></a>"
      ]
    },
    {
      "cell_type": "code",
      "metadata": {
        "id": "BoDqGnQIimng",
        "colab_type": "code",
        "colab": {}
      },
      "source": [
        "!pip install -q deeppavlov"
      ],
      "execution_count": 0,
      "outputs": []
    },
    {
      "cell_type": "code",
      "metadata": {
        "id": "6qxhXrK9hu_M",
        "colab_type": "code",
        "outputId": "530a74b5-3e64-49b3-d419-4512d0d3e205",
        "colab": {
          "base_uri": "https://localhost:8080/",
          "height": 468
        }
      },
      "source": [
        "!pip install geopy\n",
        "!pip install python-forecastio\n",
        "!pip install darkskylib\n",
        "!pip install dateparser"
      ],
      "execution_count": 0,
      "outputs": [
        {
          "output_type": "stream",
          "text": [
            "Requirement already satisfied: geopy in /usr/local/lib/python3.6/dist-packages (1.17.0)\n",
            "Requirement already satisfied: geographiclib<2,>=1.49 in /usr/local/lib/python3.6/dist-packages (from geopy) (1.49)\n",
            "Requirement already satisfied: python-forecastio in /usr/local/lib/python3.6/dist-packages (1.4.0)\n",
            "Requirement already satisfied: requests>=1.6 in /usr/local/lib/python3.6/dist-packages (from python-forecastio) (2.19.1)\n",
            "Requirement already satisfied: responses in /usr/local/lib/python3.6/dist-packages (from python-forecastio) (0.10.6)\n",
            "Requirement already satisfied: chardet<3.1.0,>=3.0.2 in /usr/local/lib/python3.6/dist-packages (from requests>=1.6->python-forecastio) (3.0.4)\n",
            "Requirement already satisfied: urllib3<1.24,>=1.21.1 in /usr/local/lib/python3.6/dist-packages (from requests>=1.6->python-forecastio) (1.23)\n",
            "Requirement already satisfied: certifi>=2017.4.17 in /usr/local/lib/python3.6/dist-packages (from requests>=1.6->python-forecastio) (2019.3.9)\n",
            "Requirement already satisfied: idna<2.8,>=2.5 in /usr/local/lib/python3.6/dist-packages (from requests>=1.6->python-forecastio) (2.7)\n",
            "Requirement already satisfied: six in /usr/local/lib/python3.6/dist-packages (from responses->python-forecastio) (1.12.0)\n",
            "Requirement already satisfied: darkskylib in /usr/local/lib/python3.6/dist-packages (0.3.91)\n",
            "Requirement already satisfied: future in /usr/local/lib/python3.6/dist-packages (from darkskylib) (0.16.0)\n",
            "Requirement already satisfied: requests in /usr/local/lib/python3.6/dist-packages (from darkskylib) (2.19.1)\n",
            "Requirement already satisfied: urllib3<1.24,>=1.21.1 in /usr/local/lib/python3.6/dist-packages (from requests->darkskylib) (1.23)\n",
            "Requirement already satisfied: idna<2.8,>=2.5 in /usr/local/lib/python3.6/dist-packages (from requests->darkskylib) (2.7)\n",
            "Requirement already satisfied: chardet<3.1.0,>=3.0.2 in /usr/local/lib/python3.6/dist-packages (from requests->darkskylib) (3.0.4)\n",
            "Requirement already satisfied: certifi>=2017.4.17 in /usr/local/lib/python3.6/dist-packages (from requests->darkskylib) (2019.3.9)\n",
            "Requirement already satisfied: dateparser in /usr/local/lib/python3.6/dist-packages (0.7.1)\n",
            "Requirement already satisfied: python-dateutil in /usr/local/lib/python3.6/dist-packages (from dateparser) (2.5.3)\n",
            "Requirement already satisfied: pytz in /usr/local/lib/python3.6/dist-packages (from dateparser) (2018.9)\n",
            "Requirement already satisfied: tzlocal in /usr/local/lib/python3.6/dist-packages (from dateparser) (1.5.1)\n",
            "Requirement already satisfied: regex in /usr/local/lib/python3.6/dist-packages (from dateparser) (2018.1.10)\n",
            "Requirement already satisfied: six>=1.5 in /usr/local/lib/python3.6/dist-packages (from python-dateutil->dateparser) (1.12.0)\n"
          ],
          "name": "stdout"
        }
      ]
    },
    {
      "cell_type": "code",
      "metadata": {
        "id": "CVy2dEEFlqH8",
        "colab_type": "code",
        "colab": {}
      },
      "source": [
        "from deeppavlov.contrib.skills.similarity_matching_skill import SimilarityMatchingSkill\n",
        "import spacy\n",
        "from spacy import displacy\n",
        "from collections import Counter\n",
        "import en_core_web_sm\n",
        "nlp = en_core_web_sm.load()\n",
        "from geopy.geocoders import Nominatim\n",
        "from darksky import forecast\n",
        "from datetime import date, timedelta\n",
        "import dateparser\n"
      ],
      "execution_count": 0,
      "outputs": []
    },
    {
      "cell_type": "code",
      "metadata": {
        "id": "vkC6fmcSuGP1",
        "colab_type": "code",
        "colab": {}
      },
      "source": [
        "from deeppavlov.skills.pattern_matching_skill import PatternMatchingSkill\n",
        "hello = PatternMatchingSkill(responses=['Hi, how can l help you'], patterns=['hi', 'hello', 'How are you'], default_confidence=0.3)\n",
        "bye = PatternMatchingSkill(responses=['Good bye'], patterns=['bye bye', 'bye'], default_confidence=0.3)\n",
        "weather = PatternMatchingSkill(responses=['For which location and date, l can only forecast for 1 week'], patterns=['weather', 'rain','temperature'], default_confidence=0.3)\n",
        "check=PatternMatchingSkill(responses=['Let me check'], patterns=['','what', 'today', 'tomorrow'], default_confidence=0.2)"
      ],
      "execution_count": 0,
      "outputs": []
    },
    {
      "cell_type": "code",
      "metadata": {
        "id": "GFW9IlcZipNq",
        "colab_type": "code",
        "colab": {}
      },
      "source": [
        "from deeppavlov.agents.default_agent.default_agent import DefaultAgent\n",
        "from deeppavlov.agents.processors.highest_confidence_selector import HighestConfidenceSelector\n",
        "agent = DefaultAgent([hello, bye, weather,check], skills_selector=HighestConfidenceSelector())"
      ],
      "execution_count": 0,
      "outputs": []
    },
    {
      "cell_type": "code",
      "metadata": {
        "id": "nSU8bDyzE1m6",
        "colab_type": "code",
        "colab": {}
      },
      "source": [
        "\n",
        "  \n",
        "def run(input): \n",
        "  doc = nlp(input)\n",
        "  dct = dict(( X.label_,X.text) for X in doc.ents)\n",
        "  location = dct.get('GPE')\n",
        "  date=dct.get('DATE')\n",
        "  \n",
        "    \n",
        "    \n",
        "  if location!=None and date!=None:\n",
        "\n",
        "    \n",
        "    import dateparser\n",
        "    d=dateparser.parse(date)\n",
        "    d=str(d)\n",
        "    d=d[:10]\n",
        "    d=datetime.datetime.strptime(d,'%Y-%m-%d').strftime('%m/%d/%y')\n",
        "    \n",
        "    from darksky import forecast\n",
        "    from datetime import date, timedelta\n",
        "\n",
        "    from geopy.geocoders import Nominatim\n",
        "    geolocator = Nominatim(user_agent=\"specify_your_app_name_here\")\n",
        "    location_ = geolocator.geocode(location)\n",
        "\n",
        "    BOSTON = location_.latitude, location_.longitude\n",
        "\n",
        "    weekday = date.today()\n",
        "    with forecast('d6c7239325b1a5e9543d57c7cd385ff4', *BOSTON) as boston:\n",
        "      print('In Summary ',boston.daily.summary, end='\\n---\\n')\n",
        "      for day in boston.daily:\n",
        "          day = dict(day = date.strftime(weekday, '%x'),\n",
        "                     sum = day.summary,\n",
        "                     tempMin = day.temperatureMin,\n",
        "                     tempMax = day.temperatureMax)\n",
        "          if day.get('day')== d:\n",
        "            print('{day}: {sum} Temp range: {tempMin} - {tempMax}'.format(**day))\n",
        "          weekday += timedelta(days=1)\n",
        "      \n",
        "    \n",
        "  else:\n",
        "    if location==None and date!=None:\n",
        "      print('sorry your location might be wrong')\n",
        "      \n",
        "    elif date==None and location!=None:\n",
        "      print('sorry your  date might be wrong, l can only give you weather in the next 7 days')\n",
        "    else:\n",
        "      print('sorry your location and date might be wrong, l can only give you weather in the next 7 days')\n",
        "\n"
      ],
      "execution_count": 0,
      "outputs": []
    },
    {
      "cell_type": "code",
      "metadata": {
        "id": "ZJ_O6a7DxOjP",
        "colab_type": "code",
        "outputId": "be4bb4cf-bef0-47dd-975a-dbf95d3f28bd",
        "colab": {
          "base_uri": "https://localhost:8080/",
          "height": 281
        }
      },
      "source": [
        "x=0\n",
        "while x==0:\n",
        "  test_text = input (\"Chat with weather chatbot : \")\n",
        "  print(agent([test_text]))\n",
        "  a=str(agent([test_text])[0])\n",
        "  if a=='Let me check':\n",
        "    run(test_text)\n",
        " \n"
      ],
      "execution_count": 0,
      "outputs": [
        {
          "output_type": "stream",
          "text": [
            "Chat with weather chatbot : hie\n",
            "['Hi, how can l help you']\n",
            "Chat with weather chatbot : what is the weather\n",
            "['For which location and date, l can only forecast for 1 week']\n",
            "Chat with weather chatbot : Moscow 9June2019\n",
            "['Let me check']\n",
            "sorry your  date might be wrong, l can only give you weather in the next 7 days\n",
            "Chat with weather chatbot : Moscow 9June 2019\n",
            "['Let me check']\n",
            "In Summary  Light rain next Thursday, with high temperatures peaking at 90°F on Wednesday.\n",
            "---\n",
            "06/06/19: Clear throughout the day. Temp range: 56.04 - 84.98\n"
          ],
          "name": "stdout"
        }
      ]
    }
  ]
}
