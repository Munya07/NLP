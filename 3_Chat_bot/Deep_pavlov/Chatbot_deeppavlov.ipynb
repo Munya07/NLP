{
  "nbformat": 4,
  "nbformat_minor": 0,
  "metadata": {
    "colab": {
      "name": "Chatbot_deeppavlov",
      "version": "0.3.2",
      "provenance": [],
      "collapsed_sections": [],
      "include_colab_link": true
    },
    "kernelspec": {
      "name": "python3",
      "display_name": "Python 3"
    }
  },
  "cells": [
    {
      "cell_type": "markdown",
      "metadata": {
        "id": "view-in-github",
        "colab_type": "text"
      },
      "source": [
        "<a href=\"https://colab.research.google.com/github/Munya07/NLP/blob/master/3_Chat_bot/Deep_pavlov/Chatbot_deeppavlov.ipynb\" target=\"_parent\"><img src=\"https://colab.research.google.com/assets/colab-badge.svg\" alt=\"Open In Colab\"/></a>"
      ]
    },
    {
      "cell_type": "code",
      "metadata": {
        "id": "BoDqGnQIimng",
        "colab_type": "code",
        "colab": {}
      },
      "source": [
        "!pip install -q deeppavlov"
      ],
      "execution_count": 0,
      "outputs": []
    },
    {
      "cell_type": "code",
      "metadata": {
        "id": "6qxhXrK9hu_M",
        "colab_type": "code",
        "outputId": "530a74b5-3e64-49b3-d419-4512d0d3e205",
        "colab": {
          "base_uri": "https://localhost:8080/",
          "height": 468
        }
      },
      "source": [
        "!pip install geopy\n",
        "!pip install python-forecastio\n",
        "!pip install darkskylib\n",
        "!pip install dateparser"
      ],
      "execution_count": 2,
      "outputs": [
        {
          "output_type": "stream",
          "text": [
            "Requirement already satisfied: geopy in /usr/local/lib/python3.6/dist-packages (1.17.0)\n",
            "Requirement already satisfied: geographiclib<2,>=1.49 in /usr/local/lib/python3.6/dist-packages (from geopy) (1.49)\n",
            "Requirement already satisfied: python-forecastio in /usr/local/lib/python3.6/dist-packages (1.4.0)\n",
            "Requirement already satisfied: requests>=1.6 in /usr/local/lib/python3.6/dist-packages (from python-forecastio) (2.19.1)\n",
            "Requirement already satisfied: responses in /usr/local/lib/python3.6/dist-packages (from python-forecastio) (0.10.6)\n",
            "Requirement already satisfied: chardet<3.1.0,>=3.0.2 in /usr/local/lib/python3.6/dist-packages (from requests>=1.6->python-forecastio) (3.0.4)\n",
            "Requirement already satisfied: urllib3<1.24,>=1.21.1 in /usr/local/lib/python3.6/dist-packages (from requests>=1.6->python-forecastio) (1.23)\n",
            "Requirement already satisfied: certifi>=2017.4.17 in /usr/local/lib/python3.6/dist-packages (from requests>=1.6->python-forecastio) (2019.3.9)\n",
            "Requirement already satisfied: idna<2.8,>=2.5 in /usr/local/lib/python3.6/dist-packages (from requests>=1.6->python-forecastio) (2.7)\n",
            "Requirement already satisfied: six in /usr/local/lib/python3.6/dist-packages (from responses->python-forecastio) (1.12.0)\n",
            "Requirement already satisfied: darkskylib in /usr/local/lib/python3.6/dist-packages (0.3.91)\n",
            "Requirement already satisfied: future in /usr/local/lib/python3.6/dist-packages (from darkskylib) (0.16.0)\n",
            "Requirement already satisfied: requests in /usr/local/lib/python3.6/dist-packages (from darkskylib) (2.19.1)\n",
            "Requirement already satisfied: urllib3<1.24,>=1.21.1 in /usr/local/lib/python3.6/dist-packages (from requests->darkskylib) (1.23)\n",
            "Requirement already satisfied: idna<2.8,>=2.5 in /usr/local/lib/python3.6/dist-packages (from requests->darkskylib) (2.7)\n",
            "Requirement already satisfied: chardet<3.1.0,>=3.0.2 in /usr/local/lib/python3.6/dist-packages (from requests->darkskylib) (3.0.4)\n",
            "Requirement already satisfied: certifi>=2017.4.17 in /usr/local/lib/python3.6/dist-packages (from requests->darkskylib) (2019.3.9)\n",
            "Requirement already satisfied: dateparser in /usr/local/lib/python3.6/dist-packages (0.7.1)\n",
            "Requirement already satisfied: python-dateutil in /usr/local/lib/python3.6/dist-packages (from dateparser) (2.5.3)\n",
            "Requirement already satisfied: pytz in /usr/local/lib/python3.6/dist-packages (from dateparser) (2018.9)\n",
            "Requirement already satisfied: tzlocal in /usr/local/lib/python3.6/dist-packages (from dateparser) (1.5.1)\n",
            "Requirement already satisfied: regex in /usr/local/lib/python3.6/dist-packages (from dateparser) (2018.1.10)\n",
            "Requirement already satisfied: six>=1.5 in /usr/local/lib/python3.6/dist-packages (from python-dateutil->dateparser) (1.12.0)\n"
          ],
          "name": "stdout"
        }
      ]
    },
    {
      "cell_type": "code",
      "metadata": {
        "id": "CVy2dEEFlqH8",
        "colab_type": "code",
        "colab": {}
      },
      "source": [
        "from deeppavlov.contrib.skills.similarity_matching_skill import SimilarityMatchingSkill\n",
        "import spacy\n",
        "from spacy import displacy\n",
        "from collections import Counter\n",
        "import en_core_web_sm\n",
        "nlp = en_core_web_sm.load()\n",
        "from geopy.geocoders import Nominatim\n",
        "from darksky import forecast\n",
        "from datetime import date, timedelta\n",
        "import dateparser\n"
      ],
      "execution_count": 0,
      "outputs": []
    },
    {
      "cell_type": "code",
      "metadata": {
        "id": "vkC6fmcSuGP1",
        "colab_type": "code",
        "colab": {}
      },
      "source": [
        "from deeppavlov.skills.pattern_matching_skill import PatternMatchingSkill\n",
        "hello = PatternMatchingSkill(responses=['Hi, how can l help you'], patterns=['hi', 'hello', 'How are you'], default_confidence=0.3)\n",
        "bye = PatternMatchingSkill(responses=['Good bye'], patterns=['bye bye', 'bye'], default_confidence=0.3)\n",
        "weather = PatternMatchingSkill(responses=['For which location and date, l can only forecast for 1 week'], patterns=['weather', 'rain','temperature'], default_confidence=0.3)\n",
        "check=PatternMatchingSkill(responses=['Let me check'], patterns=['','what', 'today', 'tomorrow'], default_confidence=0.2)"
      ],
      "execution_count": 0,
      "outputs": []
    },
    {
      "cell_type": "code",
      "metadata": {
        "id": "GFW9IlcZipNq",
        "colab_type": "code",
        "colab": {}
      },
      "source": [
        "from deeppavlov.agents.default_agent.default_agent import DefaultAgent\n",
        "from deeppavlov.agents.processors.highest_confidence_selector import HighestConfidenceSelector\n",
        "agent = DefaultAgent([hello, bye, weather,check], skills_selector=HighestConfidenceSelector())"
      ],
      "execution_count": 0,
      "outputs": []
    },
    {
      "cell_type": "code",
      "metadata": {
        "id": "nSU8bDyzE1m6",
        "colab_type": "code",
        "colab": {}
      },
      "source": [
        "\n",
        "  \n",
        "def run(input): \n",
        "  doc = nlp(input)\n",
        "  dct = dict(( X.label_,X.text) for X in doc.ents)\n",
        "  location = dct.get('GPE')\n",
        "  date=dct.get('DATE')\n",
        "  print(date, location)\n",
        "    \n",
        "    \n",
        "  if location!=None and date!=None:\n",
        "\n",
        "    \n",
        "    import dateparser\n",
        "    d=dateparser.parse(date)\n",
        "    d=str(d)\n",
        "    d=d[:10]\n",
        "    d=datetime.datetime.strptime(d,'%Y-%m-%d').strftime('%m/%d/%y')\n",
        "    print(d)\n",
        "\n",
        "    from darksky import forecast\n",
        "    from datetime import date, timedelta\n",
        "\n",
        "    from geopy.geocoders import Nominatim\n",
        "    geolocator = Nominatim(user_agent=\"specify_your_app_name_here\")\n",
        "    location_ = geolocator.geocode(location)\n",
        "\n",
        "    BOSTON = location_.latitude, location_.longitude\n",
        "\n",
        "    weekday = date.today()\n",
        "    with forecast('d6c7239325b1a5e9543d57c7cd385ff4', *BOSTON) as boston:\n",
        "      print('In Summary ',boston.daily.summary, end='\\n---\\n')\n",
        "      for day in boston.daily:\n",
        "          day = dict(day = date.strftime(weekday, '%x'),\n",
        "                     sum = day.summary,\n",
        "                     tempMin = day.temperatureMin,\n",
        "                     tempMax = day.temperatureMax)\n",
        "          if day.get('day')== d:\n",
        "            print('{day}: {sum} Temp range: {tempMin} - {tempMax}'.format(**day))\n",
        "          weekday += timedelta(days=1)\n",
        "      \n",
        "    \n",
        "  else:\n",
        "    if location==None and date!=None:\n",
        "      print('sorry your location might be wrong')\n",
        "      \n",
        "    elif date==None and location!=None:\n",
        "      print('sorry your  date might be wrong, l can only give you weather in the next 7 days')\n",
        "    else:\n",
        "      print('sorry your location and date might be wrong, l can only give you weather in the next 7 days')\n",
        "\n"
      ],
      "execution_count": 0,
      "outputs": []
    },
    {
      "cell_type": "code",
      "metadata": {
        "id": "ZJ_O6a7DxOjP",
        "colab_type": "code",
        "outputId": "925e8ebd-3366-4509-d6fc-fae4169aa4df",
        "colab": {
          "base_uri": "https://localhost:8080/",
          "height": 1042
        }
      },
      "source": [
        "x=0\n",
        "while x==0:\n",
        "  test_text = input (\"Chat with weather chatbot : \")\n",
        "  print(agent([test_text]))\n",
        "  a=str(agent([test_text])[0])\n",
        "  if a=='Let me check':\n",
        "    run(test_text)\n",
        " \n"
      ],
      "execution_count": 120,
      "outputs": [
        {
          "output_type": "stream",
          "text": [
            "Chat with weather chatbot : 7 june 2019 Moscow\n",
            "['Let me check']\n",
            "june 2019 Moscow\n",
            "06/06/19\n",
            "In Summary  Light rain next Thursday, with high temperatures peaking at 90°F on Wednesday.\n",
            "---\n",
            "06/06/19: Clear throughout the day. Temp range: 56.04 - 84.98\n",
            "Chat with weather chatbot : 7june 2019 Moscow\n",
            "['Let me check']\n",
            "7june 2019 Moscow\n",
            "06/07/19\n",
            "In Summary  Light rain next Thursday, with high temperatures peaking at 90°F on Wednesday.\n",
            "---\n",
            "06/07/19: Clear throughout the day. Temp range: 61.82 - 87.91\n",
            "Chat with weather chatbot : October 2020\n",
            "['Let me check']\n",
            "October 2020 None\n",
            "sorry your location might be wrong\n",
            "Chat with weather chatbot : Harare 7 june 2019\n",
            "['Let me check']\n",
            "7 june 2019 Harare\n",
            "06/07/19\n",
            "In Summary  No precipitation throughout the week, with high temperatures falling to 69°F on Sunday.\n",
            "---\n",
            "06/07/19: Clear throughout the day. Temp range: 44.97 - 79.44\n"
          ],
          "name": "stdout"
        },
        {
          "output_type": "error",
          "ename": "KeyboardInterrupt",
          "evalue": "ignored",
          "traceback": [
            "\u001b[0;31m---------------------------------------------------------------------------\u001b[0m",
            "\u001b[0;31mKeyboardInterrupt\u001b[0m                         Traceback (most recent call last)",
            "\u001b[0;32m/usr/local/lib/python3.6/dist-packages/ipykernel/kernelbase.py\u001b[0m in \u001b[0;36m_input_request\u001b[0;34m(self, prompt, ident, parent, password)\u001b[0m\n\u001b[1;32m    729\u001b[0m             \u001b[0;32mtry\u001b[0m\u001b[0;34m:\u001b[0m\u001b[0;34m\u001b[0m\u001b[0;34m\u001b[0m\u001b[0m\n\u001b[0;32m--> 730\u001b[0;31m                 \u001b[0mident\u001b[0m\u001b[0;34m,\u001b[0m \u001b[0mreply\u001b[0m \u001b[0;34m=\u001b[0m \u001b[0mself\u001b[0m\u001b[0;34m.\u001b[0m\u001b[0msession\u001b[0m\u001b[0;34m.\u001b[0m\u001b[0mrecv\u001b[0m\u001b[0;34m(\u001b[0m\u001b[0mself\u001b[0m\u001b[0;34m.\u001b[0m\u001b[0mstdin_socket\u001b[0m\u001b[0;34m,\u001b[0m \u001b[0;36m0\u001b[0m\u001b[0;34m)\u001b[0m\u001b[0;34m\u001b[0m\u001b[0;34m\u001b[0m\u001b[0m\n\u001b[0m\u001b[1;32m    731\u001b[0m             \u001b[0;32mexcept\u001b[0m \u001b[0mException\u001b[0m\u001b[0;34m:\u001b[0m\u001b[0;34m\u001b[0m\u001b[0;34m\u001b[0m\u001b[0m\n",
            "\u001b[0;32m/usr/local/lib/python3.6/dist-packages/jupyter_client/session.py\u001b[0m in \u001b[0;36mrecv\u001b[0;34m(self, socket, mode, content, copy)\u001b[0m\n\u001b[1;32m    802\u001b[0m         \u001b[0;32mtry\u001b[0m\u001b[0;34m:\u001b[0m\u001b[0;34m\u001b[0m\u001b[0;34m\u001b[0m\u001b[0m\n\u001b[0;32m--> 803\u001b[0;31m             \u001b[0mmsg_list\u001b[0m \u001b[0;34m=\u001b[0m \u001b[0msocket\u001b[0m\u001b[0;34m.\u001b[0m\u001b[0mrecv_multipart\u001b[0m\u001b[0;34m(\u001b[0m\u001b[0mmode\u001b[0m\u001b[0;34m,\u001b[0m \u001b[0mcopy\u001b[0m\u001b[0;34m=\u001b[0m\u001b[0mcopy\u001b[0m\u001b[0;34m)\u001b[0m\u001b[0;34m\u001b[0m\u001b[0;34m\u001b[0m\u001b[0m\n\u001b[0m\u001b[1;32m    804\u001b[0m         \u001b[0;32mexcept\u001b[0m \u001b[0mzmq\u001b[0m\u001b[0;34m.\u001b[0m\u001b[0mZMQError\u001b[0m \u001b[0;32mas\u001b[0m \u001b[0me\u001b[0m\u001b[0;34m:\u001b[0m\u001b[0;34m\u001b[0m\u001b[0;34m\u001b[0m\u001b[0m\n",
            "\u001b[0;32m/usr/local/lib/python3.6/dist-packages/zmq/sugar/socket.py\u001b[0m in \u001b[0;36mrecv_multipart\u001b[0;34m(self, flags, copy, track)\u001b[0m\n\u001b[1;32m    465\u001b[0m         \"\"\"\n\u001b[0;32m--> 466\u001b[0;31m         \u001b[0mparts\u001b[0m \u001b[0;34m=\u001b[0m \u001b[0;34m[\u001b[0m\u001b[0mself\u001b[0m\u001b[0;34m.\u001b[0m\u001b[0mrecv\u001b[0m\u001b[0;34m(\u001b[0m\u001b[0mflags\u001b[0m\u001b[0;34m,\u001b[0m \u001b[0mcopy\u001b[0m\u001b[0;34m=\u001b[0m\u001b[0mcopy\u001b[0m\u001b[0;34m,\u001b[0m \u001b[0mtrack\u001b[0m\u001b[0;34m=\u001b[0m\u001b[0mtrack\u001b[0m\u001b[0;34m)\u001b[0m\u001b[0;34m]\u001b[0m\u001b[0;34m\u001b[0m\u001b[0;34m\u001b[0m\u001b[0m\n\u001b[0m\u001b[1;32m    467\u001b[0m         \u001b[0;31m# have first part already, only loop while more to receive\u001b[0m\u001b[0;34m\u001b[0m\u001b[0;34m\u001b[0m\u001b[0;34m\u001b[0m\u001b[0m\n",
            "\u001b[0;32mzmq/backend/cython/socket.pyx\u001b[0m in \u001b[0;36mzmq.backend.cython.socket.Socket.recv\u001b[0;34m()\u001b[0m\n",
            "\u001b[0;32mzmq/backend/cython/socket.pyx\u001b[0m in \u001b[0;36mzmq.backend.cython.socket.Socket.recv\u001b[0;34m()\u001b[0m\n",
            "\u001b[0;32mzmq/backend/cython/socket.pyx\u001b[0m in \u001b[0;36mzmq.backend.cython.socket._recv_copy\u001b[0;34m()\u001b[0m\n",
            "\u001b[0;32m/usr/local/lib/python3.6/dist-packages/zmq/backend/cython/checkrc.pxd\u001b[0m in \u001b[0;36mzmq.backend.cython.checkrc._check_rc\u001b[0;34m()\u001b[0m\n",
            "\u001b[0;31mKeyboardInterrupt\u001b[0m: ",
            "\nDuring handling of the above exception, another exception occurred:\n",
            "\u001b[0;31mKeyboardInterrupt\u001b[0m                         Traceback (most recent call last)",
            "\u001b[0;32m<ipython-input-120-25b579f4c7f7>\u001b[0m in \u001b[0;36m<module>\u001b[0;34m()\u001b[0m\n\u001b[1;32m      1\u001b[0m \u001b[0mx\u001b[0m\u001b[0;34m=\u001b[0m\u001b[0;36m0\u001b[0m\u001b[0;34m\u001b[0m\u001b[0;34m\u001b[0m\u001b[0m\n\u001b[1;32m      2\u001b[0m \u001b[0;32mwhile\u001b[0m \u001b[0mx\u001b[0m\u001b[0;34m==\u001b[0m\u001b[0;36m0\u001b[0m\u001b[0;34m:\u001b[0m\u001b[0;34m\u001b[0m\u001b[0;34m\u001b[0m\u001b[0m\n\u001b[0;32m----> 3\u001b[0;31m   \u001b[0mtest_text\u001b[0m \u001b[0;34m=\u001b[0m \u001b[0minput\u001b[0m \u001b[0;34m(\u001b[0m\u001b[0;34m\"Chat with weather chatbot : \"\u001b[0m\u001b[0;34m)\u001b[0m\u001b[0;34m\u001b[0m\u001b[0;34m\u001b[0m\u001b[0m\n\u001b[0m\u001b[1;32m      4\u001b[0m   \u001b[0mprint\u001b[0m\u001b[0;34m(\u001b[0m\u001b[0magent\u001b[0m\u001b[0;34m(\u001b[0m\u001b[0;34m[\u001b[0m\u001b[0mtest_text\u001b[0m\u001b[0;34m]\u001b[0m\u001b[0;34m)\u001b[0m\u001b[0;34m)\u001b[0m\u001b[0;34m\u001b[0m\u001b[0;34m\u001b[0m\u001b[0m\n\u001b[1;32m      5\u001b[0m   \u001b[0ma\u001b[0m\u001b[0;34m=\u001b[0m\u001b[0mstr\u001b[0m\u001b[0;34m(\u001b[0m\u001b[0magent\u001b[0m\u001b[0;34m(\u001b[0m\u001b[0;34m[\u001b[0m\u001b[0mtest_text\u001b[0m\u001b[0;34m]\u001b[0m\u001b[0;34m)\u001b[0m\u001b[0;34m[\u001b[0m\u001b[0;36m0\u001b[0m\u001b[0;34m]\u001b[0m\u001b[0;34m)\u001b[0m\u001b[0;34m\u001b[0m\u001b[0;34m\u001b[0m\u001b[0m\n",
            "\u001b[0;32m/usr/local/lib/python3.6/dist-packages/ipykernel/kernelbase.py\u001b[0m in \u001b[0;36mraw_input\u001b[0;34m(self, prompt)\u001b[0m\n\u001b[1;32m    703\u001b[0m             \u001b[0mself\u001b[0m\u001b[0;34m.\u001b[0m\u001b[0m_parent_ident\u001b[0m\u001b[0;34m,\u001b[0m\u001b[0;34m\u001b[0m\u001b[0;34m\u001b[0m\u001b[0m\n\u001b[1;32m    704\u001b[0m             \u001b[0mself\u001b[0m\u001b[0;34m.\u001b[0m\u001b[0m_parent_header\u001b[0m\u001b[0;34m,\u001b[0m\u001b[0;34m\u001b[0m\u001b[0;34m\u001b[0m\u001b[0m\n\u001b[0;32m--> 705\u001b[0;31m             \u001b[0mpassword\u001b[0m\u001b[0;34m=\u001b[0m\u001b[0;32mFalse\u001b[0m\u001b[0;34m,\u001b[0m\u001b[0;34m\u001b[0m\u001b[0;34m\u001b[0m\u001b[0m\n\u001b[0m\u001b[1;32m    706\u001b[0m         )\n\u001b[1;32m    707\u001b[0m \u001b[0;34m\u001b[0m\u001b[0m\n",
            "\u001b[0;32m/usr/local/lib/python3.6/dist-packages/ipykernel/kernelbase.py\u001b[0m in \u001b[0;36m_input_request\u001b[0;34m(self, prompt, ident, parent, password)\u001b[0m\n\u001b[1;32m    733\u001b[0m             \u001b[0;32mexcept\u001b[0m \u001b[0mKeyboardInterrupt\u001b[0m\u001b[0;34m:\u001b[0m\u001b[0;34m\u001b[0m\u001b[0;34m\u001b[0m\u001b[0m\n\u001b[1;32m    734\u001b[0m                 \u001b[0;31m# re-raise KeyboardInterrupt, to truncate traceback\u001b[0m\u001b[0;34m\u001b[0m\u001b[0;34m\u001b[0m\u001b[0;34m\u001b[0m\u001b[0m\n\u001b[0;32m--> 735\u001b[0;31m                 \u001b[0;32mraise\u001b[0m \u001b[0mKeyboardInterrupt\u001b[0m\u001b[0;34m\u001b[0m\u001b[0;34m\u001b[0m\u001b[0m\n\u001b[0m\u001b[1;32m    736\u001b[0m             \u001b[0;32melse\u001b[0m\u001b[0;34m:\u001b[0m\u001b[0;34m\u001b[0m\u001b[0;34m\u001b[0m\u001b[0m\n\u001b[1;32m    737\u001b[0m                 \u001b[0;32mbreak\u001b[0m\u001b[0;34m\u001b[0m\u001b[0;34m\u001b[0m\u001b[0m\n",
            "\u001b[0;31mKeyboardInterrupt\u001b[0m: "
          ]
        }
      ]
    }
  ]
}