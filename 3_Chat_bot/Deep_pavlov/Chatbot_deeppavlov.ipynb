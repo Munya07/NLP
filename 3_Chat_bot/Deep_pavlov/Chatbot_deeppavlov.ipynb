{
  "nbformat": 4,
  "nbformat_minor": 0,
  "metadata": {
    "colab": {
      "name": "Chatbot_deeppavlov",
      "version": "0.3.2",
      "provenance": [],
      "collapsed_sections": [],
      "include_colab_link": true
    },
    "kernelspec": {
      "name": "python3",
      "display_name": "Python 3"
    }
  },
  "cells": [
    {
      "cell_type": "markdown",
      "metadata": {
        "id": "view-in-github",
        "colab_type": "text"
      },
      "source": [
        "<a href=\"https://colab.research.google.com/github/Munya07/NLP/blob/master/3_Chat_bot/Deep_pavlov/Chatbot_deeppavlov.ipynb\" target=\"_parent\"><img src=\"https://colab.research.google.com/assets/colab-badge.svg\" alt=\"Open In Colab\"/></a>"
      ]
    },
    {
      "cell_type": "code",
      "metadata": {
        "id": "BoDqGnQIimng",
        "colab_type": "code",
        "outputId": "703fd025-e451-480e-f32c-07fa2e9beb4c",
        "colab": {
          "base_uri": "https://localhost:8080/",
          "height": 629
        }
      },
      "source": [
        "!pip install -q deeppavlov"
      ],
      "execution_count": 0,
      "outputs": [
        {
          "output_type": "stream",
          "text": [
            "\u001b[K     |████████████████████████████████| 675kB 4.9MB/s \n",
            "\u001b[K     |████████████████████████████████| 31.2MB 1.3MB/s \n",
            "\u001b[K     |████████████████████████████████| 12.2MB 36.2MB/s \n",
            "\u001b[K     |████████████████████████████████| 61kB 22.0MB/s \n",
            "\u001b[K     |████████████████████████████████| 3.4MB 42.4MB/s \n",
            "\u001b[K     |████████████████████████████████| 92kB 26.2MB/s \n",
            "\u001b[K     |████████████████████████████████| 12.4MB 40.5MB/s \n",
            "\u001b[K     |████████████████████████████████| 11.8MB 35.6MB/s \n",
            "\u001b[K     |████████████████████████████████| 8.0MB 2.1MB/s \n",
            "\u001b[K     |████████████████████████████████| 4.1MB 40.7MB/s \n",
            "\u001b[K     |████████████████████████████████| 92kB 27.6MB/s \n",
            "\u001b[K     |████████████████████████████████| 307kB 45.1MB/s \n",
            "\u001b[K     |████████████████████████████████| 61kB 23.2MB/s \n",
            "\u001b[K     |████████████████████████████████| 51kB 19.7MB/s \n",
            "\u001b[K     |████████████████████████████████| 51kB 19.8MB/s \n",
            "\u001b[K     |████████████████████████████████| 143kB 48.7MB/s \n",
            "\u001b[K     |████████████████████████████████| 61kB 20.7MB/s \n",
            "\u001b[K     |████████████████████████████████| 51kB 20.0MB/s \n",
            "\u001b[K     |████████████████████████████████| 2.3MB 44.0MB/s \n",
            "\u001b[K     |████████████████████████████████| 7.1MB 48.1MB/s \n",
            "\u001b[K     |████████████████████████████████| 102kB 28.7MB/s \n",
            "\u001b[?25h  Building wheel for overrides (setup.py) ... \u001b[?25l\u001b[?25hdone\n",
            "  Building wheel for pytelegrambotapi (setup.py) ... \u001b[?25l\u001b[?25hdone\n",
            "\u001b[31mERROR: yellowbrick 0.9.1 has requirement scikit-learn>=0.20, but you'll have scikit-learn 0.19.1 which is incompatible.\u001b[0m\n",
            "\u001b[31mERROR: tensorflow 1.13.1 has requirement keras-applications>=1.0.6, but you'll have keras-applications 1.0.2 which is incompatible.\u001b[0m\n",
            "\u001b[31mERROR: tensorflow 1.13.1 has requirement keras-preprocessing>=1.0.5, but you'll have keras-preprocessing 1.0.1 which is incompatible.\u001b[0m\n",
            "\u001b[31mERROR: spacy 2.0.18 has requirement numpy>=1.15.0, but you'll have numpy 1.14.5 which is incompatible.\u001b[0m\n",
            "\u001b[31mERROR: imgaug 0.2.9 has requirement numpy>=1.15.0, but you'll have numpy 1.14.5 which is incompatible.\u001b[0m\n",
            "\u001b[31mERROR: imbalanced-learn 0.4.3 has requirement scikit-learn>=0.20, but you'll have scikit-learn 0.19.1 which is incompatible.\u001b[0m\n",
            "\u001b[31mERROR: google-colab 1.0.0 has requirement pandas~=0.24.0, but you'll have pandas 0.23.1 which is incompatible.\u001b[0m\n",
            "\u001b[31mERROR: google-colab 1.0.0 has requirement requests~=2.21.0, but you'll have requests 2.19.1 which is incompatible.\u001b[0m\n",
            "\u001b[31mERROR: fbprophet 0.5 has requirement pandas>=0.23.4, but you'll have pandas 0.23.1 which is incompatible.\u001b[0m\n",
            "\u001b[31mERROR: fastai 1.0.52 has requirement numpy>=1.15, but you'll have numpy 1.14.5 which is incompatible.\u001b[0m\n",
            "\u001b[31mERROR: datascience 0.10.6 has requirement folium==0.2.1, but you'll have folium 0.8.3 which is incompatible.\u001b[0m\n",
            "\u001b[31mERROR: apixu 0.2.0 has requirement requests==2.21, but you'll have requests 2.19.1 which is incompatible.\u001b[0m\n",
            "\u001b[31mERROR: albumentations 0.1.12 has requirement imgaug<0.2.7,>=0.2.5, but you'll have imgaug 0.2.9 which is incompatible.\u001b[0m\n"
          ],
          "name": "stdout"
        }
      ]
    },
    {
      "cell_type": "code",
      "metadata": {
        "id": "6qxhXrK9hu_M",
        "colab_type": "code",
        "outputId": "5c270f8f-d401-4a48-aff1-932794eafb12",
        "colab": {
          "base_uri": "https://localhost:8080/",
          "height": 51
        }
      },
      "source": [
        "!pip install geopy\n",
        "!pip install python-forecastio\n",
        "!pip install darkskylib\n",
        "!pip install dateparser"
      ],
      "execution_count": 0,
      "outputs": [
        {
          "output_type": "stream",
          "text": [
            "Requirement already satisfied: geopy in /usr/local/lib/python3.6/dist-packages (1.17.0)\n",
            "Requirement already satisfied: geographiclib<2,>=1.49 in /usr/local/lib/python3.6/dist-packages (from geopy) (1.49)\n"
          ],
          "name": "stdout"
        }
      ]
    },
    {
      "cell_type": "code",
      "metadata": {
        "id": "CVy2dEEFlqH8",
        "colab_type": "code",
        "outputId": "ca04c9e0-4c8c-4152-ff86-398081bdf233",
        "colab": {
          "base_uri": "https://localhost:8080/",
          "height": 513
        }
      },
      "source": [
        "from deeppavlov.contrib.skills.similarity_matching_skill import SimilarityMatchingSkill\n",
        "import spacy\n",
        "from spacy import displacy\n",
        "from collections import Counter\n",
        "import en_core_web_sm\n",
        "nlp = en_core_web_sm.load()\n",
        "from geopy.geocoders import Nominatim\n"
      ],
      "execution_count": 0,
      "outputs": [
        {
          "output_type": "stream",
          "text": [
            "2019-06-05 21:13:37.948 INFO in 'deeppavlov.core.data.utils'['utils'] at line 63: Downloading from http://files.deeppavlov.ai/vectorizer/tfidf_vectorizer_ruwiki.pkl to /content/My drive/colab/vectorizer/tfidf_vectorizer_ruwiki.pkl\n",
            "100%|██████████| 140M/140M [00:25<00:00, 5.49MB/s]\n",
            "2019-06-05 21:14:04.256 INFO in 'deeppavlov.core.data.utils'['utils'] at line 63: Downloading from http://files.deeppavlov.ai/faq/school/tfidf_cos_sim_classifier.pkl to /content/My drive/colab/faq/tfidf_cos_sim_classifier.pkl\n",
            "100%|██████████| 12.0k/12.0k [00:00<00:00, 3.88MB/s]\n",
            "[nltk_data] Downloading package punkt to /root/nltk_data...\n",
            "[nltk_data]   Unzipping tokenizers/punkt.zip.\n",
            "[nltk_data] Downloading package stopwords to /root/nltk_data...\n",
            "[nltk_data]   Unzipping corpora/stopwords.zip.\n",
            "[nltk_data] Downloading package perluniprops to /root/nltk_data...\n",
            "[nltk_data]   Unzipping misc/perluniprops.zip.\n",
            "[nltk_data] Downloading package nonbreaking_prefixes to\n",
            "[nltk_data]     /root/nltk_data...\n",
            "[nltk_data]   Unzipping corpora/nonbreaking_prefixes.zip.\n",
            "2019-06-05 21:14:06.466 INFO in 'deeppavlov.models.sklearn.sklearn_component'['sklearn_component'] at line 202: Loading model sklearn.feature_extraction.text:TfidfVectorizer from /content/My drive/colab/vectorizer/tfidf_vectorizer_ruwiki.pkl\n",
            "2019-06-05 21:14:08.836 INFO in 'deeppavlov.models.sklearn.sklearn_component'['sklearn_component'] at line 209: Model sklearn.feature_extraction.textTfidfVectorizer loaded  with parameters\n",
            "2019-06-05 21:14:08.837 WARNING in 'deeppavlov.models.sklearn.sklearn_component'['sklearn_component'] at line 215: Fitting of loaded model can not be continued. Model can be fitted from scratch.If one needs to continue fitting, please, look at `warm_start` parameter\n",
            "2019-06-05 21:14:08.846 INFO in 'deeppavlov.models.sklearn.sklearn_component'['sklearn_component'] at line 108: Fitting model sklearn.feature_extraction.textTfidfVectorizer\n",
            "2019-06-05 21:14:08.853 INFO in 'deeppavlov.models.sklearn.sklearn_component'['sklearn_component'] at line 240: Saving model to /content/My drive/colab/vectorizer/tfidf_vectorizer_ruwiki.pkl\n",
            "2019-06-05 21:14:08.880 INFO in 'deeppavlov.models.classifiers.cos_sim_classifier'['cos_sim_classifier'] at line 128: Saving faq_model to /content/My drive/colab/faq/tfidf_cos_sim_classifier.pkl\n",
            "2019-06-05 21:14:09.144 INFO in 'deeppavlov.models.sklearn.sklearn_component'['sklearn_component'] at line 202: Loading model sklearn.feature_extraction.text:TfidfVectorizer from /content/My drive/colab/vectorizer/tfidf_vectorizer_ruwiki.pkl\n",
            "2019-06-05 21:14:09.146 INFO in 'deeppavlov.models.sklearn.sklearn_component'['sklearn_component'] at line 209: Model sklearn.feature_extraction.textTfidfVectorizer loaded  with parameters\n",
            "2019-06-05 21:14:09.147 WARNING in 'deeppavlov.models.sklearn.sklearn_component'['sklearn_component'] at line 215: Fitting of loaded model can not be continued. Model can be fitted from scratch.If one needs to continue fitting, please, look at `warm_start` parameter\n",
            "2019-06-05 21:14:09.149 INFO in 'deeppavlov.models.classifiers.cos_sim_classifier'['cos_sim_classifier'] at line 133: Loading faq_model from /content/My drive/colab/faq/tfidf_cos_sim_classifier.pkl\n",
            "2019-06-05 21:14:09.319 INFO in 'deeppavlov.models.sklearn.sklearn_component'['sklearn_component'] at line 202: Loading model sklearn.feature_extraction.text:TfidfVectorizer from /content/My drive/colab/vectorizer/tfidf_vectorizer_ruwiki.pkl\n",
            "2019-06-05 21:14:09.321 INFO in 'deeppavlov.models.sklearn.sklearn_component'['sklearn_component'] at line 209: Model sklearn.feature_extraction.textTfidfVectorizer loaded  with parameters\n",
            "2019-06-05 21:14:09.322 WARNING in 'deeppavlov.models.sklearn.sklearn_component'['sklearn_component'] at line 215: Fitting of loaded model can not be continued. Model can be fitted from scratch.If one needs to continue fitting, please, look at `warm_start` parameter\n",
            "2019-06-05 21:14:09.323 INFO in 'deeppavlov.models.classifiers.cos_sim_classifier'['cos_sim_classifier'] at line 133: Loading faq_model from /content/My drive/colab/faq/tfidf_cos_sim_classifier.pkl\n",
            "2019-06-05 21:14:09.324 INFO in 'deeppavlov.contrib.skills.similarity_matching_skill.similarity_matching_skill'['similarity_matching_skill'] at line 69: Your model was saved at: 'My drive/colab'\n"
          ],
          "name": "stderr"
        }
      ]
    },
    {
      "cell_type": "code",
      "metadata": {
        "id": "vkC6fmcSuGP1",
        "colab_type": "code",
        "colab": {}
      },
      "source": [
        "from deeppavlov.skills.pattern_matching_skill import PatternMatchingSkill\n",
        "hello = PatternMatchingSkill(responses=['Hi, how can l help you'], patterns=['hi', 'hello', 'How are you'], default_confidence=0.3)\n",
        "bye = PatternMatchingSkill(responses=['Good bye'], patterns=['bye bye', 'bye'], default_confidence=0.3)\n",
        "weather = PatternMatchingSkill(responses=['For which location and date, l can only forecast for 1 week'], patterns=['weather', 'rain','temperature'], default_confidence=0.3)\n",
        "check=PatternMatchingSkill(responses=['Let me check'], patterns=[''], default_confidence=0.2)"
      ],
      "execution_count": 0,
      "outputs": []
    },
    {
      "cell_type": "code",
      "metadata": {
        "id": "GFW9IlcZipNq",
        "colab_type": "code",
        "colab": {}
      },
      "source": [
        "from deeppavlov.agents.default_agent.default_agent import DefaultAgent\n",
        "from deeppavlov.agents.processors.highest_confidence_selector import HighestConfidenceSelector\n",
        "agent = DefaultAgent([hello, bye, weather,check], skills_selector=HighestConfidenceSelector())"
      ],
      "execution_count": 0,
      "outputs": []
    },
    {
      "cell_type": "code",
      "metadata": {
        "id": "nSU8bDyzE1m6",
        "colab_type": "code",
        "colab": {}
      },
      "source": [
        "\n",
        "  \n",
        "def run(input): \n",
        "  doc = nlp(input)\n",
        "  dct = dict(( X.label_,X.text) for X in doc.ents)\n",
        "  location = dct.get('GPE')\n",
        "  date=dct.get('DATE')\n",
        "  print(date, location)\n",
        "    \n",
        "    \n",
        "  if location!=None and date!=None:\n",
        "\n",
        "    \n",
        "    import dateparser\n",
        "    d=dateparser.parse(date)\n",
        "    d=str(d)\n",
        "    d=d[:10].replace('-', '/')\n",
        "    print(d)\n",
        "\n",
        "    from darksky import forecast\n",
        "    from datetime import date, timedelta\n",
        "\n",
        "    from geopy.geocoders import Nominatim\n",
        "    geolocator = Nominatim(user_agent=\"specify_your_app_name_here\")\n",
        "    location_ = geolocator.geocode(location)\n",
        "\n",
        "    BOSTON = location_.latitude, location_.longitude\n",
        "\n",
        "    weekday = date.today()\n",
        "    with forecast('d6c7239325b1a5e9543d57c7cd385ff4', *BOSTON) as boston:\n",
        "      print(boston.daily.summary, end='\\n---\\n')\n",
        "      for day in boston.daily:\n",
        "          day = dict(day = date.strftime(weekday, '%x'),\n",
        "                     sum = day.summary,\n",
        "                     tempMin = day.temperatureMin,\n",
        "                     tempMax = day.temperatureMax)\n",
        "          l = day.get('day')           \n",
        "          if l==d:\n",
        "            print(response='{day}: {sum} Temp range: {tempMin} - {tempMax}'.format(**day))\n",
        "          weekday += timedelta(days=1)\n",
        "      \n",
        "    \n",
        "  else:\n",
        "    if location==None and date!=None:\n",
        "      print('sorry your location might be wrong')\n",
        "      \n",
        "    elif date==None and location!=None:\n",
        "      print('sorry your  date might be wrong, l can only give you weather in the next 7 days')\n",
        "    else:\n",
        "      print('sorry your location and date might be wrong, l can only give you weather in the next 7 days')\n",
        "\n"
      ],
      "execution_count": 0,
      "outputs": []
    },
    {
      "cell_type": "code",
      "metadata": {
        "id": "ZJ_O6a7DxOjP",
        "colab_type": "code",
        "outputId": "bd254485-2a56-428b-9b02-0b6ac9c26184",
        "colab": {
          "base_uri": "https://localhost:8080/",
          "height": 732
        }
      },
      "source": [
        "\n",
        "while x==0:\n",
        "  test_text = input (\"Chat with weather chatbot : \")\n",
        "  print(agent([test_text]))\n",
        "  a=str(agent([test_text])[0])\n",
        "  if a=='Let me check':\n",
        "    run(test_text)\n",
        " \n"
      ],
      "execution_count": 0,
      "outputs": [
        {
          "output_type": "stream",
          "text": [
            "Chat with weather chatbot : hie\n",
            "['Hi, how can l help you']\n",
            "Chat with weather chatbot : how are you\n",
            "['Hi, how can l help you']\n",
            "Chat with weather chatbot : whats the weather in India\n",
            "['For which location and date, l can only forecast for 1 week']\n",
            "Chat with weather chatbot : India tomorrow\n",
            "['Let me check']\n",
            "tomorrow India\n",
            "2019/06/07\n",
            "No precipitation throughout the week, with high temperatures falling to 102°F on Tuesday.\n",
            "---\n"
          ],
          "name": "stdout"
        },
        {
          "output_type": "error",
          "ename": "KeyboardInterrupt",
          "evalue": "ignored",
          "traceback": [
            "\u001b[0;31m---------------------------------------------------------------------------\u001b[0m",
            "\u001b[0;31mKeyboardInterrupt\u001b[0m                         Traceback (most recent call last)",
            "\u001b[0;32m/usr/local/lib/python3.6/dist-packages/ipykernel/kernelbase.py\u001b[0m in \u001b[0;36m_input_request\u001b[0;34m(self, prompt, ident, parent, password)\u001b[0m\n\u001b[1;32m    729\u001b[0m             \u001b[0;32mtry\u001b[0m\u001b[0;34m:\u001b[0m\u001b[0;34m\u001b[0m\u001b[0;34m\u001b[0m\u001b[0m\n\u001b[0;32m--> 730\u001b[0;31m                 \u001b[0mident\u001b[0m\u001b[0;34m,\u001b[0m \u001b[0mreply\u001b[0m \u001b[0;34m=\u001b[0m \u001b[0mself\u001b[0m\u001b[0;34m.\u001b[0m\u001b[0msession\u001b[0m\u001b[0;34m.\u001b[0m\u001b[0mrecv\u001b[0m\u001b[0;34m(\u001b[0m\u001b[0mself\u001b[0m\u001b[0;34m.\u001b[0m\u001b[0mstdin_socket\u001b[0m\u001b[0;34m,\u001b[0m \u001b[0;36m0\u001b[0m\u001b[0;34m)\u001b[0m\u001b[0;34m\u001b[0m\u001b[0;34m\u001b[0m\u001b[0m\n\u001b[0m\u001b[1;32m    731\u001b[0m             \u001b[0;32mexcept\u001b[0m \u001b[0mException\u001b[0m\u001b[0;34m:\u001b[0m\u001b[0;34m\u001b[0m\u001b[0;34m\u001b[0m\u001b[0m\n",
            "\u001b[0;32m/usr/local/lib/python3.6/dist-packages/jupyter_client/session.py\u001b[0m in \u001b[0;36mrecv\u001b[0;34m(self, socket, mode, content, copy)\u001b[0m\n\u001b[1;32m    802\u001b[0m         \u001b[0;32mtry\u001b[0m\u001b[0;34m:\u001b[0m\u001b[0;34m\u001b[0m\u001b[0;34m\u001b[0m\u001b[0m\n\u001b[0;32m--> 803\u001b[0;31m             \u001b[0mmsg_list\u001b[0m \u001b[0;34m=\u001b[0m \u001b[0msocket\u001b[0m\u001b[0;34m.\u001b[0m\u001b[0mrecv_multipart\u001b[0m\u001b[0;34m(\u001b[0m\u001b[0mmode\u001b[0m\u001b[0;34m,\u001b[0m \u001b[0mcopy\u001b[0m\u001b[0;34m=\u001b[0m\u001b[0mcopy\u001b[0m\u001b[0;34m)\u001b[0m\u001b[0;34m\u001b[0m\u001b[0;34m\u001b[0m\u001b[0m\n\u001b[0m\u001b[1;32m    804\u001b[0m         \u001b[0;32mexcept\u001b[0m \u001b[0mzmq\u001b[0m\u001b[0;34m.\u001b[0m\u001b[0mZMQError\u001b[0m \u001b[0;32mas\u001b[0m \u001b[0me\u001b[0m\u001b[0;34m:\u001b[0m\u001b[0;34m\u001b[0m\u001b[0;34m\u001b[0m\u001b[0m\n",
            "\u001b[0;32m/usr/local/lib/python3.6/dist-packages/zmq/sugar/socket.py\u001b[0m in \u001b[0;36mrecv_multipart\u001b[0;34m(self, flags, copy, track)\u001b[0m\n\u001b[1;32m    465\u001b[0m         \"\"\"\n\u001b[0;32m--> 466\u001b[0;31m         \u001b[0mparts\u001b[0m \u001b[0;34m=\u001b[0m \u001b[0;34m[\u001b[0m\u001b[0mself\u001b[0m\u001b[0;34m.\u001b[0m\u001b[0mrecv\u001b[0m\u001b[0;34m(\u001b[0m\u001b[0mflags\u001b[0m\u001b[0;34m,\u001b[0m \u001b[0mcopy\u001b[0m\u001b[0;34m=\u001b[0m\u001b[0mcopy\u001b[0m\u001b[0;34m,\u001b[0m \u001b[0mtrack\u001b[0m\u001b[0;34m=\u001b[0m\u001b[0mtrack\u001b[0m\u001b[0;34m)\u001b[0m\u001b[0;34m]\u001b[0m\u001b[0;34m\u001b[0m\u001b[0;34m\u001b[0m\u001b[0m\n\u001b[0m\u001b[1;32m    467\u001b[0m         \u001b[0;31m# have first part already, only loop while more to receive\u001b[0m\u001b[0;34m\u001b[0m\u001b[0;34m\u001b[0m\u001b[0;34m\u001b[0m\u001b[0m\n",
            "\u001b[0;32mzmq/backend/cython/socket.pyx\u001b[0m in \u001b[0;36mzmq.backend.cython.socket.Socket.recv\u001b[0;34m()\u001b[0m\n",
            "\u001b[0;32mzmq/backend/cython/socket.pyx\u001b[0m in \u001b[0;36mzmq.backend.cython.socket.Socket.recv\u001b[0;34m()\u001b[0m\n",
            "\u001b[0;32mzmq/backend/cython/socket.pyx\u001b[0m in \u001b[0;36mzmq.backend.cython.socket._recv_copy\u001b[0;34m()\u001b[0m\n",
            "\u001b[0;32m/usr/local/lib/python3.6/dist-packages/zmq/backend/cython/checkrc.pxd\u001b[0m in \u001b[0;36mzmq.backend.cython.checkrc._check_rc\u001b[0;34m()\u001b[0m\n",
            "\u001b[0;31mKeyboardInterrupt\u001b[0m: ",
            "\nDuring handling of the above exception, another exception occurred:\n",
            "\u001b[0;31mKeyboardInterrupt\u001b[0m                         Traceback (most recent call last)",
            "\u001b[0;32m<ipython-input-328-2a62db34a9b0>\u001b[0m in \u001b[0;36m<module>\u001b[0;34m()\u001b[0m\n\u001b[1;32m      1\u001b[0m \u001b[0;34m\u001b[0m\u001b[0m\n\u001b[1;32m      2\u001b[0m \u001b[0;32mwhile\u001b[0m \u001b[0mx\u001b[0m\u001b[0;34m==\u001b[0m\u001b[0;36m0\u001b[0m\u001b[0;34m:\u001b[0m\u001b[0;34m\u001b[0m\u001b[0;34m\u001b[0m\u001b[0m\n\u001b[0;32m----> 3\u001b[0;31m   \u001b[0mtest_text\u001b[0m \u001b[0;34m=\u001b[0m \u001b[0minput\u001b[0m \u001b[0;34m(\u001b[0m\u001b[0;34m\"Chat with weather chatbot : \"\u001b[0m\u001b[0;34m)\u001b[0m\u001b[0;34m\u001b[0m\u001b[0;34m\u001b[0m\u001b[0m\n\u001b[0m\u001b[1;32m      4\u001b[0m   \u001b[0mprint\u001b[0m\u001b[0;34m(\u001b[0m\u001b[0magent\u001b[0m\u001b[0;34m(\u001b[0m\u001b[0;34m[\u001b[0m\u001b[0mtest_text\u001b[0m\u001b[0;34m]\u001b[0m\u001b[0;34m)\u001b[0m\u001b[0;34m)\u001b[0m\u001b[0;34m\u001b[0m\u001b[0;34m\u001b[0m\u001b[0m\n\u001b[1;32m      5\u001b[0m   \u001b[0ma\u001b[0m\u001b[0;34m=\u001b[0m\u001b[0mstr\u001b[0m\u001b[0;34m(\u001b[0m\u001b[0magent\u001b[0m\u001b[0;34m(\u001b[0m\u001b[0;34m[\u001b[0m\u001b[0mtest_text\u001b[0m\u001b[0;34m]\u001b[0m\u001b[0;34m)\u001b[0m\u001b[0;34m[\u001b[0m\u001b[0;36m0\u001b[0m\u001b[0;34m]\u001b[0m\u001b[0;34m)\u001b[0m\u001b[0;34m\u001b[0m\u001b[0;34m\u001b[0m\u001b[0m\n",
            "\u001b[0;32m/usr/local/lib/python3.6/dist-packages/ipykernel/kernelbase.py\u001b[0m in \u001b[0;36mraw_input\u001b[0;34m(self, prompt)\u001b[0m\n\u001b[1;32m    703\u001b[0m             \u001b[0mself\u001b[0m\u001b[0;34m.\u001b[0m\u001b[0m_parent_ident\u001b[0m\u001b[0;34m,\u001b[0m\u001b[0;34m\u001b[0m\u001b[0;34m\u001b[0m\u001b[0m\n\u001b[1;32m    704\u001b[0m             \u001b[0mself\u001b[0m\u001b[0;34m.\u001b[0m\u001b[0m_parent_header\u001b[0m\u001b[0;34m,\u001b[0m\u001b[0;34m\u001b[0m\u001b[0;34m\u001b[0m\u001b[0m\n\u001b[0;32m--> 705\u001b[0;31m             \u001b[0mpassword\u001b[0m\u001b[0;34m=\u001b[0m\u001b[0;32mFalse\u001b[0m\u001b[0;34m,\u001b[0m\u001b[0;34m\u001b[0m\u001b[0;34m\u001b[0m\u001b[0m\n\u001b[0m\u001b[1;32m    706\u001b[0m         )\n\u001b[1;32m    707\u001b[0m \u001b[0;34m\u001b[0m\u001b[0m\n",
            "\u001b[0;32m/usr/local/lib/python3.6/dist-packages/ipykernel/kernelbase.py\u001b[0m in \u001b[0;36m_input_request\u001b[0;34m(self, prompt, ident, parent, password)\u001b[0m\n\u001b[1;32m    733\u001b[0m             \u001b[0;32mexcept\u001b[0m \u001b[0mKeyboardInterrupt\u001b[0m\u001b[0;34m:\u001b[0m\u001b[0;34m\u001b[0m\u001b[0;34m\u001b[0m\u001b[0m\n\u001b[1;32m    734\u001b[0m                 \u001b[0;31m# re-raise KeyboardInterrupt, to truncate traceback\u001b[0m\u001b[0;34m\u001b[0m\u001b[0;34m\u001b[0m\u001b[0;34m\u001b[0m\u001b[0m\n\u001b[0;32m--> 735\u001b[0;31m                 \u001b[0;32mraise\u001b[0m \u001b[0mKeyboardInterrupt\u001b[0m\u001b[0;34m\u001b[0m\u001b[0;34m\u001b[0m\u001b[0m\n\u001b[0m\u001b[1;32m    736\u001b[0m             \u001b[0;32melse\u001b[0m\u001b[0;34m:\u001b[0m\u001b[0;34m\u001b[0m\u001b[0;34m\u001b[0m\u001b[0m\n\u001b[1;32m    737\u001b[0m                 \u001b[0;32mbreak\u001b[0m\u001b[0;34m\u001b[0m\u001b[0;34m\u001b[0m\u001b[0m\n",
            "\u001b[0;31mKeyboardInterrupt\u001b[0m: "
          ]
        }
      ]
    }
  ]
}